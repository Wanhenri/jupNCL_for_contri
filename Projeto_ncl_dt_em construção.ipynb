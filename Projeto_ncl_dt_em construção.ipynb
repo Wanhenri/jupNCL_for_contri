{
 "cells": [
  {
   "cell_type": "code",
   "execution_count": 3,
   "metadata": {},
   "outputs": [],
   "source": [
    "files = systemfunc(\"ls *.nc\")  \n",
    "f = addfiles(files,\"r\")"
   ]
  },
  {
   "cell_type": "code",
   "execution_count": null,
   "metadata": {},
   "outputs": [],
   "source": [
    "print(f)"
   ]
  },
  {
   "cell_type": "markdown",
   "metadata": {},
   "source": [
    "<!DOCTYPE html>\n",
    "<html>\n",
    "<head>\n",
    "</head>\n",
    "<body>\n",
    "    <div>\n",
    "        <h3>Posicionamento das variáveis dentro do diretório e alinhando com o seu devido local.</h3>\n",
    "    </div>\n",
    "    <table>\n",
    "        <thead>\n",
    "            <th>Dado</th>\n",
    "            <th>Var</th>\n",
    "            <th>Posição</th>\n",
    "        </thead>\n",
    "        <tbody>\n",
    "            <td>GPM</td>\n",
    "            <td>n_ob</td>\n",
    "            <td>0</td>\n",
    "        </tbody>\n",
    "        <tbody>\n",
    "            <td></td>\n",
    "            <td>n_ncep_1</td>\n",
    "            <td>1</td>\n",
    "        </tbody>\n",
    "        <tbody>\n",
    "            <td>BAM-NCEP</td>\n",
    "            <td>n_ncep_2</td>\n",
    "            <td>3</td>\n",
    "        </tbody>\n",
    "        <tbody>\n",
    "            <td></td>\n",
    "            <td>n_ncep_3</td>\n",
    "            <td>5</td>\n",
    "        </tbody>\n",
    "        <tbody>\n",
    "            <td></td>\n",
    "            <td>n_smg_1</td>\n",
    "            <td>2</td>\n",
    "        </tbody>\n",
    "        <tbody>\n",
    "            <td>BAM-SMG v2.0.0</td>\n",
    "            <td>n_smg_2</td>\n",
    "            <td>4</td>\n",
    "        </tbody>\n",
    "        <tbody>\n",
    "            <td></td>\n",
    "            <td>n_smg_3</td>\n",
    "            <td>6</td>\n",
    "        </tbody>\n",
    "        <tbody>\n",
    "            <td></td>\n",
    "            <td>n_smg_v210_1</td>\n",
    "            <td>?</td>\n",
    "        </tbody>\n",
    "        <tbody>\n",
    "            <td>BAM-SMG v2.1.0</td>\n",
    "            <td>n_smg_v210_2</td>\n",
    "            <td>?</td>\n",
    "        </tbody>\n",
    "        <tbody>\n",
    "            <td></td>\n",
    "            <td>n_smg_v210_3</td>\n",
    "            <td>?</td>\n",
    "        </tbody>\n",
    "        <tbody>\n",
    "            <td></td>\n",
    "            <td>n_gfs_1</td>\n",
    "            <td>10</td>\n",
    "        </tbody>\n",
    "         <tbody>\n",
    "            <td>GFS</td>\n",
    "            <td>n_gfs_2</td>\n",
    "            <td>11</td>\n",
    "        </tbody>\n",
    "         <tbody>\n",
    "            <td></td>\n",
    "            <td>n_gfs_3</td>\n",
    "            <td>12</td>\n",
    "        </tbody>\n",
    "    </table>\n",
    "</body>\n",
    "</html>"
   ]
  },
  {
   "cell_type": "markdown",
   "metadata": {},
   "source": [
    "<!DOCTYPE html>\n",
    "<html>\n",
    "<head>\n",
    "</head>\n",
    "    <body>\n",
    "        <h6>Observado.</h6>\n",
    "    </body>\n",
    "</html>"
   ]
  },
  {
   "cell_type": "code",
   "execution_count": 4,
   "metadata": {},
   "outputs": [],
   "source": [
    "n_ob=0"
   ]
  },
  {
   "cell_type": "markdown",
   "metadata": {},
   "source": [
    "<!DOCTYPE html>\n",
    "<html>\n",
    "<head>\n",
    "</head>\n",
    "    <body>\n",
    "        <h6>BAM-NCEP.</h6>\n",
    "    </body>\n",
    "</html>"
   ]
  },
  {
   "cell_type": "code",
   "execution_count": 5,
   "metadata": {},
   "outputs": [],
   "source": [
    "n_ncep_1=1\n",
    "n_ncep_2=3\n",
    "n_ncep_3=5"
   ]
  },
  {
   "cell_type": "markdown",
   "metadata": {},
   "source": [
    "<!DOCTYPE html>\n",
    "<html>\n",
    "<head>\n",
    "</head>\n",
    "    <body>\n",
    "        <h6>BAM-SMG versão 2.0.0</h6>\n",
    "    </body>\n",
    "</html>"
   ]
  },
  {
   "cell_type": "code",
   "execution_count": 6,
   "metadata": {},
   "outputs": [],
   "source": [
    "n_smg_1=2\n",
    "n_smg_2=4\n",
    "n_smg_3=6"
   ]
  },
  {
   "cell_type": "markdown",
   "metadata": {},
   "source": [
    "<!DOCTYPE html>\n",
    "<html>\n",
    "<head>\n",
    "</head>\n",
    "    <body>\n",
    "        <h6>BAM-SMG versão 2.1.0</h6>\n",
    "    </body>\n",
    "</html>"
   ]
  },
  {
   "cell_type": "code",
   "execution_count": 7,
   "metadata": {},
   "outputs": [],
   "source": [
    ";n_smg_1=7\n",
    ";n_smg_2=8\n",
    ";n_smg_3=9"
   ]
  },
  {
   "cell_type": "markdown",
   "metadata": {},
   "source": [
    "<!DOCTYPE html>\n",
    "<html>\n",
    "<head>\n",
    "</head>\n",
    "    <body>\n",
    "        <h6>GFS</h6>\n",
    "    </body>\n",
    "</html>"
   ]
  },
  {
   "cell_type": "code",
   "execution_count": 8,
   "metadata": {},
   "outputs": [],
   "source": [
    "n_gfs_1=10\n",
    "n_gfs_2=11\n",
    "n_gfs_3=12"
   ]
  },
  {
   "cell_type": "markdown",
   "metadata": {},
   "source": [
    "<!DOCTYPE html>\n",
    "<html>\n",
    "<head>\n",
    "</head>\n",
    "    <body>\n",
    "        <h6>ÁREAS</h6>\n",
    "         <div>\n",
    "     <table>\n",
    "      <thead>\n",
    "       <th>área</th>   \n",
    "       <th>latitude inicial</th>\n",
    "       <th>latitude final</th>\n",
    "       <th>longitude inicial</th>\n",
    "       <th>longitude final</th>\n",
    "      </thead>\n",
    "      <tbody>\n",
    "       <td>South American</td>   \n",
    "       <td>-36</td>\n",
    "       <td>0</td>\n",
    "       <td>280</td>\n",
    "       <td>325</td>   \n",
    "      </tbody>\n",
    "      <tbody>\n",
    "       <td>La Plata</td>\n",
    "       <td>-36</td>\n",
    "       <td>-24</td>\n",
    "       <td>295</td>\n",
    "       <td>315</td>\n",
    "      </tbody>\n",
    "      <tbody>\n",
    "       <td>Southeast</td>\n",
    "       <td>-24</td>\n",
    "       <td>-12</td>\n",
    "       <td>310</td>\n",
    "       <td>325</td>\n",
    "      </tbody>\n",
    "      <tbody>\n",
    "       <td>Central West</td>\n",
    "       <td>-24</td>\n",
    "       <td>-12</td>\n",
    "       <td>295</td>\n",
    "       <td>310</td> \n",
    "      </tbody>\n",
    "      <tbody>\n",
    "       <td>Northeast</td>\n",
    "       <td>-12</td>\n",
    "       <td>0</td>\n",
    "       <td>310</td>\n",
    "       <td>325</td> \n",
    "      </tbody>\n",
    "      <tbody>\n",
    "       <td>Amazon</td>\n",
    "       <td>-12</td>\n",
    "       <td>0</td>\n",
    "       <td>295</td>\n",
    "       <td>310</td> \n",
    "      </tbody>\n",
    "     </table>\n",
    "    </div>\n",
    "    </body>\n",
    "</html>"
   ]
  },
  {
   "cell_type": "code",
   "execution_count": 9,
   "metadata": {},
   "outputs": [],
   "source": [
    "area =(/ \"SA\" ,  \"La_Plata\",  \"southeast\",   \"Central_West\" , \"northeast\" ,\"Amazon\" /)\n",
    "lai  =(/  -36 ,  -36       ,  -24        ,  -24             , -12         ,  -12    /)\n",
    "laf  =(/    0 ,  -24       ,  -12        ,  -12             , 0           ,  0     /)\n",
    "loi  =(/  280 ,  295       ,  310        ,  295             , 310         ,  295    /)\n",
    "lof  =(/  325 ,  315       ,  325        ,  310             , 325         ,  310    /)"
   ]
  },
  {
   "cell_type": "code",
   "execution_count": 10,
   "metadata": {},
   "outputs": [],
   "source": [
    "ob = new( (/6,25/), float)\n",
    "path = getfilepath (f[n_ob])\n",
    "T_agg = f[n_ob]->PREC_surface(:,:,:)\n",
    "T_agg@_FillValue=-9.99e+08\n",
    "i=0\n",
    "k=0\n",
    "    do while(i.le.5) .and. (k.le.5)    \n",
    "        nni=25\n",
    "        do nn=0, nni-1         \n",
    "            TT=dim_avg_Wrap(dim_avg_Wrap(T_agg(:,{lai(k):laf(k)},{loi(k):lof(k)})))\n",
    "            ob(i,nn)=TT(nn)\n",
    "        end do  \n",
    "    k=k+1\n",
    "    i=i+1\n",
    "end do"
   ]
  },
  {
   "cell_type": "code",
   "execution_count": null,
   "metadata": {},
   "outputs": [],
   "source": [
    "print(path)"
   ]
  },
  {
   "cell_type": "code",
   "execution_count": null,
   "metadata": {},
   "outputs": [],
   "source": [
    "print (ob)"
   ]
  },
  {
   "cell_type": "code",
   "execution_count": 11,
   "metadata": {},
   "outputs": [],
   "source": [
    "gfs_1 = new( (/6,25/), float)\n",
    "path_gfs_1 = getfilepath (f[n_gfs_1])\n",
    "T_agg_gfs_1 = f[n_gfs_1]->APCP_surface(:,:,:)\n",
    "T_agg_gfs_1@_FillValue=-9.99e+08\n",
    "i=0  \n",
    "k=0\n",
    "do while(i.le.5) .and. (k.le.5)   \n",
    "  nni=25\n",
    "  do nn=0, nni-1\n",
    "    TT_gfs_1=dim_avg_Wrap(dim_avg_Wrap(T_agg_gfs_1(:,{lai(k):laf(k)},{loi(k):lof(k)})))\n",
    "    gfs_1(i,nn)=TT_gfs_1(nn)\n",
    "  end do\n",
    "i=i+1\n",
    "k=k+1\n",
    "end do"
   ]
  },
  {
   "cell_type": "code",
   "execution_count": null,
   "metadata": {},
   "outputs": [],
   "source": [
    "print(path_gfs_1)"
   ]
  },
  {
   "cell_type": "code",
   "execution_count": null,
   "metadata": {},
   "outputs": [],
   "source": [
    "print (gfs_1)"
   ]
  },
  {
   "cell_type": "code",
   "execution_count": 12,
   "metadata": {},
   "outputs": [],
   "source": [
    "gfs_2 = new( (/6,25/), float)\n",
    "path_gfs_2 = getfilepath (f[n_gfs_2])\n",
    "T_agg_gfs_2 = f[n_gfs_2]->APCP_surface(:,:,:)\n",
    "T_agg_gfs_2@_FillValue=-9.99e+08\n",
    "i=0  \n",
    "k=0\n",
    "do while(i.le.5) .and. (k.le.5)   \n",
    "  nni=25\n",
    "  do nn=0, nni-1\n",
    "    TT_gfs_2=dim_avg_Wrap(dim_avg_Wrap(T_agg_gfs_2(:,{lai(k):laf(k)},{loi(k):lof(k)})))\n",
    "    gfs_2(i,nn)=TT_gfs_2(nn)\n",
    "  end do\n",
    "i=i+1\n",
    "k=k+1\n",
    "end do"
   ]
  },
  {
   "cell_type": "code",
   "execution_count": null,
   "metadata": {},
   "outputs": [],
   "source": [
    "print(path_gfs_2)"
   ]
  },
  {
   "cell_type": "code",
   "execution_count": null,
   "metadata": {},
   "outputs": [],
   "source": [
    "print (gfs_2)"
   ]
  },
  {
   "cell_type": "code",
   "execution_count": 13,
   "metadata": {},
   "outputs": [],
   "source": [
    "gfs_3 = new( (/6,25/), float)\n",
    "path_gfs_3 = getfilepath (f[n_gfs_3])\n",
    "T_agg_gfs_3 = f[n_gfs_3]->APCP_surface(:,:,:)\n",
    "T_agg_gfs_3@_FillValue=-9.99e+08\n",
    "i=0  \n",
    "k=0\n",
    "do while(i.le.5) .and. (k.le.5)   \n",
    "  nni=25\n",
    "  do nn=0, nni-1\n",
    "    TT_gfs_3=dim_avg_Wrap(dim_avg_Wrap(T_agg_gfs_3(:,{lai(k):laf(k)},{loi(k):lof(k)})))\n",
    "    gfs_3(i,nn)=TT_gfs_3(nn)\n",
    "  end do\n",
    "i=i+1\n",
    "k=k+1\n",
    "end do"
   ]
  },
  {
   "cell_type": "code",
   "execution_count": null,
   "metadata": {},
   "outputs": [],
   "source": [
    "print(path_gfs_3)"
   ]
  },
  {
   "cell_type": "code",
   "execution_count": null,
   "metadata": {},
   "outputs": [],
   "source": [
    "print (gfs_3)"
   ]
  },
  {
   "cell_type": "code",
   "execution_count": null,
   "metadata": {},
   "outputs": [],
   "source": []
  },
  {
   "cell_type": "code",
   "execution_count": 14,
   "metadata": {},
   "outputs": [],
   "source": [
    "bam_ncep_1 = new( (/6,25/), float)\n",
    "path_bam_ncep_1 = getfilepath (f[n_ncep_1])\n",
    "T_agg_bam_ncep_1 = f[n_ncep_1]->prec(:,:,:)\n",
    "T_agg_bam_ncep_1@_FillValue=-9.99e+08\n",
    "i=0  \n",
    "k=0\n",
    "do while(i.le.5) .and. (k.le.5)   \n",
    "  nni=25\n",
    "  do nn=0, nni-1\n",
    "    TT_bam_ncep_1=dim_avg_Wrap(dim_avg_Wrap(T_agg_bam_ncep_1(:,{lai(k):laf(k)},{loi(k):lof(k)})))\n",
    "    bam_ncep_1(i,nn)=TT_bam_ncep_1(nn)\n",
    "  end do\n",
    "i=i+1\n",
    "k=k+1\n",
    "end do"
   ]
  },
  {
   "cell_type": "code",
   "execution_count": null,
   "metadata": {},
   "outputs": [],
   "source": [
    "print(path_bam_ncep_1)"
   ]
  },
  {
   "cell_type": "code",
   "execution_count": null,
   "metadata": {},
   "outputs": [],
   "source": [
    "print (bam_ncep_1)"
   ]
  },
  {
   "cell_type": "code",
   "execution_count": null,
   "metadata": {},
   "outputs": [],
   "source": []
  },
  {
   "cell_type": "code",
   "execution_count": 15,
   "metadata": {},
   "outputs": [],
   "source": [
    "bam_ncep_2 = new( (/6,25/), float)\n",
    "path_bam_ncep_2 = getfilepath (f[n_ncep_2])\n",
    "T_agg_bam_ncep_2 = f[n_ncep_2]->prec(:,:,:)\n",
    "T_agg_bam_ncep_2@_FillValue=-9.99e+08\n",
    "i=0  \n",
    "k=0\n",
    "do while(i.le.5) .and. (k.le.5)   \n",
    "  nni=25\n",
    "  do nn=0, nni-1\n",
    "    TT_bam_ncep_2=dim_avg_Wrap(dim_avg_Wrap(T_agg_bam_ncep_2(:,{lai(k):laf(k)},{loi(k):lof(k)})))\n",
    "    bam_ncep_2(i,nn)=TT_bam_ncep_2(nn)\n",
    "  end do\n",
    "i=i+1\n",
    "k=k+1\n",
    "end do"
   ]
  },
  {
   "cell_type": "code",
   "execution_count": null,
   "metadata": {},
   "outputs": [],
   "source": [
    "print(path_bam_ncep_2)"
   ]
  },
  {
   "cell_type": "code",
   "execution_count": null,
   "metadata": {},
   "outputs": [],
   "source": [
    "print (bam_ncep_2)"
   ]
  },
  {
   "cell_type": "code",
   "execution_count": 16,
   "metadata": {},
   "outputs": [],
   "source": [
    "bam_ncep_3 = new( (/6,25/), float)\n",
    "path_bam_ncep_3 = getfilepath (f[n_ncep_3])\n",
    "T_agg_bam_ncep_3 = f[n_ncep_3]->prec(:,:,:)\n",
    "T_agg_bam_ncep_3@_FillValue=-9.99e+08\n",
    "i=0  \n",
    "k=0\n",
    "do while(i.le.5) .and. (k.le.5)   \n",
    "  nni=25\n",
    "  do nn=0, nni-1\n",
    "    TT_bam_ncep_3=dim_avg_Wrap(dim_avg_Wrap(T_agg_bam_ncep_3(:,{lai(k):laf(k)},{loi(k):lof(k)})))\n",
    "    bam_ncep_3(i,nn)=TT_bam_ncep_3(nn)\n",
    "  end do\n",
    "i=i+1\n",
    "k=k+1\n",
    "end do"
   ]
  },
  {
   "cell_type": "code",
   "execution_count": null,
   "metadata": {},
   "outputs": [],
   "source": [
    "print(path_bam_ncep_3)"
   ]
  },
  {
   "cell_type": "code",
   "execution_count": null,
   "metadata": {},
   "outputs": [],
   "source": [
    "print (bam_ncep_3)"
   ]
  },
  {
   "cell_type": "code",
   "execution_count": 17,
   "metadata": {},
   "outputs": [],
   "source": [
    "bam_smg_1 = new( (/6,25/), float)\n",
    "path_bam_smg_1 = getfilepath (f[n_smg_1])\n",
    "T_agg_bam_smg_1 = f[n_smg_1]->prec(:,:,:)\n",
    "T_agg_bam_smg_1@_FillValue=-9.99e+08\n",
    "i=0  \n",
    "k=0\n",
    "do while(i.le.5) .and. (k.le.5)   \n",
    "  nni=25\n",
    "  do nn=0, nni-1\n",
    "    TT_bam_smg_1=dim_avg_Wrap(dim_avg_Wrap(T_agg_bam_smg_1(:,{lai(k):laf(k)},{loi(k):lof(k)})))\n",
    "    bam_smg_1(i,nn)=TT_bam_smg_1(nn)\n",
    "  end do\n",
    "i=i+1\n",
    "k=k+1\n",
    "end do"
   ]
  },
  {
   "cell_type": "code",
   "execution_count": null,
   "metadata": {},
   "outputs": [],
   "source": [
    "print(path_bam_smg_1)"
   ]
  },
  {
   "cell_type": "code",
   "execution_count": null,
   "metadata": {},
   "outputs": [],
   "source": [
    "print(bam_smg_1)"
   ]
  },
  {
   "cell_type": "code",
   "execution_count": 19,
   "metadata": {},
   "outputs": [],
   "source": [
    "bam_smg_2 = new( (/6,25/), float)\n",
    "path_bam_smg_2 = getfilepath (f[n_smg_2])\n",
    "T_agg_bam_smg_2 = f[n_smg_2]->prec(:,:,:)\n",
    "T_agg_bam_smg_2@_FillValue=-9.99e+08\n",
    "i=0  \n",
    "k=0\n",
    "do while(i.le.5) .and. (k.le.5)   \n",
    "  nni=25\n",
    "  do nn=0, nni-1\n",
    "    TT_bam_smg_2=dim_avg_Wrap(dim_avg_Wrap(T_agg_bam_smg_2(:,{lai(k):laf(k)},{loi(k):lof(k)})))\n",
    "    bam_smg_2(i,nn)=TT_bam_smg_2(nn)\n",
    "  end do\n",
    "i=i+1\n",
    "k=k+1\n",
    "end do"
   ]
  },
  {
   "cell_type": "code",
   "execution_count": null,
   "metadata": {},
   "outputs": [],
   "source": [
    "print(path_bam_smg_2)"
   ]
  },
  {
   "cell_type": "code",
   "execution_count": null,
   "metadata": {},
   "outputs": [],
   "source": [
    "print(bam_smg_2)"
   ]
  },
  {
   "cell_type": "code",
   "execution_count": 20,
   "metadata": {},
   "outputs": [],
   "source": [
    "bam_smg_3 = new( (/6,25/), float)\n",
    "path_bam_smg_3 = getfilepath (f[n_smg_3])\n",
    "T_agg_bam_smg_3 = f[n_smg_3]->prec(:,:,:)\n",
    "T_agg_bam_smg_3@_FillValue=-9.99e+08\n",
    "i=0  \n",
    "k=0\n",
    "do while(i.le.5) .and. (k.le.5)   \n",
    "  nni=25\n",
    "  do nn=0, nni-1\n",
    "    TT_bam_smg_3=dim_avg_Wrap(dim_avg_Wrap(T_agg_bam_smg_3(:,{lai(k):laf(k)},{loi(k):lof(k)})))\n",
    "    bam_smg_3(i,nn)=TT_bam_smg_3(nn)\n",
    "  end do\n",
    "i=i+1\n",
    "k=k+1\n",
    "end do"
   ]
  },
  {
   "cell_type": "code",
   "execution_count": null,
   "metadata": {},
   "outputs": [],
   "source": [
    "print(path_bam_smg_3)"
   ]
  },
  {
   "cell_type": "code",
   "execution_count": null,
   "metadata": {},
   "outputs": [],
   "source": [
    "print(bam_smg_3)"
   ]
  },
  {
   "cell_type": "code",
   "execution_count": null,
   "metadata": {},
   "outputs": [],
   "source": []
  },
  {
   "cell_type": "code",
   "execution_count": 22,
   "metadata": {},
   "outputs": [
    {
     "name": "stdout",
     "output_type": "stream",
     "text": [
      "fatal:Variable (data1) is undefined\n",
      "fatal:[\"Execute.c\":8638]:Execute: Error occurred at or near line 193"
     ]
    }
   ],
   "source": [
    "delete(data1)"
   ]
  },
  {
   "cell_type": "code",
   "execution_count": 23,
   "metadata": {},
   "outputs": [],
   "source": [
    "data1= new( (/6,25/),float)\n",
    "data1(0,:) = (/bam_smg_1(0,:)/)\n",
    "data1(1,:) = (/bam_ncep_1(0,:)/)\n",
    "data1(2,:) = (/ob(0,:)/)\n",
    "data1(3,:) = (/gfs_1(0,:)/)\n",
    "\n"
   ]
  },
  {
   "cell_type": "code",
   "execution_count": 24,
   "metadata": {},
   "outputs": [],
   "source": [
    "data2= new( (/6,25/),float)\n",
    "data2(0,:) = (/bam_smg_1(0,:)/)\n",
    "data2(1,:) = (/bam_ncep_1(0,:)/)\n",
    "data2(2,:) = (/ob(0,:)/)\n",
    "data2(3,:) = (/gfs_1(0,:)/)\n"
   ]
  },
  {
   "cell_type": "code",
   "execution_count": 26,
   "metadata": {},
   "outputs": [],
   "source": [
    "data3= new( (/6,25/),float)\n",
    "data3(0,:) = (/bam_smg_1(0,:)/)\n",
    "data3(1,:) = (/bam_ncep_1(0,:)/)\n",
    "data3(2,:) = (/ob(0,:)/)\n",
    "data3(3,:) = (/gfs_1(0,:)/)\n"
   ]
  },
  {
   "cell_type": "code",
   "execution_count": 27,
   "metadata": {},
   "outputs": [],
   "source": [
    "data4= new( (/6,25/),float)\n",
    "data4(0,:) = (/bam_smg_1(0,:)/)\n",
    "data4(1,:) = (/bam_ncep_1(0,:)/)\n",
    "data4(2,:) = (/ob(0,:)/)\n",
    "data4(3,:) = (/gfs_1(0,:)/)"
   ]
  },
  {
   "cell_type": "code",
   "execution_count": 28,
   "metadata": {},
   "outputs": [],
   "source": [
    "data5= new( (/6,25/),float)\n",
    "data5(0,:) = (/bam_smg_1(0,:)/)\n",
    "data5(1,:) = (/bam_ncep_1(0,:)/)\n",
    "data5(2,:) = (/ob(0,:)/)\n",
    "data5(3,:) = (/gfs_1(0,:)/)"
   ]
  },
  {
   "cell_type": "code",
   "execution_count": 29,
   "metadata": {},
   "outputs": [],
   "source": [
    "data6= new( (/6,25/),float)\n",
    "data6(0,:) = (/bam_smg_1(0,:)/)\n",
    "data6(1,:) = (/bam_ncep_1(0,:)/)\n",
    "data6(2,:) = (/ob(0,:)/)\n",
    "data6(3,:) = (/gfs_1(0,:)/)"
   ]
  },
  {
   "cell_type": "code",
   "execution_count": 30,
   "metadata": {},
   "outputs": [],
   "source": [
    "data7= new( (/6,25/),float)\n",
    "data7(0,:) = (/bam_smg_1(0,:)/)\n",
    "data7(1,:) = (/bam_ncep_1(0,:)/)\n",
    "data7(2,:) = (/ob(0,:)/)\n",
    "data7(3,:) = (/gfs_1(0,:)/)"
   ]
  },
  {
   "cell_type": "code",
   "execution_count": null,
   "metadata": {},
   "outputs": [],
   "source": []
  },
  {
   "cell_type": "code",
   "execution_count": null,
   "metadata": {},
   "outputs": [],
   "source": [
    "print(data1)\n"
   ]
  },
  {
   "cell_type": "code",
   "execution_count": null,
   "metadata": {},
   "outputs": [],
   "source": [
    "tt1= new( (/6,25/),float)\n",
    "var1 = (/\"bam_smg_1\",\"bam_ncep_1\",\"ob\",\"gfs_1\"/)\n",
    "y=0\n",
    "z=0\n",
    "do while(y.le.3) .and. (z.le.3)\n",
    "    var_1 = var1(z)\n",
    "    ;print(var_1)\n",
    "    nni=25\n",
    "    do nn=0, nni-1\n",
    "        tt1(y,nn) = (/var_1(0,:)/)\n",
    "    end do\n",
    "y=y+1\n",
    "z=z+1\n",
    "end do\n"
   ]
  },
  {
   "cell_type": "code",
   "execution_count": null,
   "metadata": {},
   "outputs": [],
   "source": []
  },
  {
   "cell_type": "code",
   "execution_count": null,
   "metadata": {},
   "outputs": [],
   "source": []
  },
  {
   "cell_type": "code",
   "execution_count": null,
   "metadata": {},
   "outputs": [],
   "source": []
  },
  {
   "cell_type": "code",
   "execution_count": null,
   "metadata": {},
   "outputs": [],
   "source": [
    "print (ob)\n",
    "print (gfs_1)\n",
    "print (gfs_2)\n",
    "print (gfs_3)\n",
    "print (bam_ncep_1)\n",
    "print (bam_ncep_2)\n",
    "print (bam_ncep_3)\n",
    "print(bam_smg_1)\n",
    "print(bam_smg_2)\n",
    "print(bam_smg_3)"
   ]
  },
  {
   "cell_type": "code",
   "execution_count": null,
   "metadata": {},
   "outputs": [],
   "source": [
    ";>America do Sul"
   ]
  },
  {
   "cell_type": "code",
   "execution_count": null,
   "metadata": {},
   "outputs": [],
   "source": [
    ";data1   = new((/4,dimsizes(bam_smg_1)/),double)\n",
    ";data1(0,:) = bam_smg_1(0,:)\n",
    ";data1(1,:) = bam_ncep_1(0,:)\n",
    ";data1(2,:) = ob(0,:)\n",
    ";data1(3,:) = gfs_1(0,:)"
   ]
  },
  {
   "cell_type": "code",
   "execution_count": null,
   "metadata": {},
   "outputs": [],
   "source": [
    ";data1(0,:) = n1m24   ;>>>SMG\n",
    ";data1(1,:) = aa1m24  ;>>>NCEP\n",
    ";data1(2,:) = aa1o    ;>>>IMERG\n",
    ";data1(3,:) = gfs1m24 ;>>>GFS\n"
   ]
  },
  {
   "cell_type": "code",
   "execution_count": null,
   "metadata": {},
   "outputs": [],
   "source": [
    "d1 = [bam_smg_1,bam_ncep_1,ob,gfs_1]\n",
    "i=0  \n",
    "do while(i.le.4) \n",
    "d1 = d1(n(i,:))\n",
    "  nni=1\n",
    "  do nn=0, nni-1\n",
    "    TT_d1 = d1\n",
    "    data1(i,nn)=TT_d1(nn)\n",
    "  end do\n",
    "i=i+1\n",
    "end do"
   ]
  },
  {
   "cell_type": "code",
   "execution_count": null,
   "metadata": {},
   "outputs": [],
   "source": []
  },
  {
   "cell_type": "code",
   "execution_count": null,
   "metadata": {},
   "outputs": [],
   "source": []
  },
  {
   "cell_type": "code",
   "execution_count": null,
   "metadata": {},
   "outputs": [],
   "source": [
    "\n"
   ]
  },
  {
   "cell_type": "markdown",
   "metadata": {},
   "source": [
    "<!DOCTYPE html>\n",
    "<html>\n",
    "<head>\n",
    "</head>\n",
    "    <body>\n",
    "        <h3>Desvio Padrão.</h3>\n",
    "    </body>\n",
    "</html>"
   ]
  },
  {
   "cell_type": "code",
   "execution_count": null,
   "metadata": {},
   "outputs": [],
   "source": []
  },
  {
   "cell_type": "code",
   "execution_count": null,
   "metadata": {},
   "outputs": [],
   "source": [
    "dev_ob = new( (/6,1/), float)"
   ]
  },
  {
   "cell_type": "code",
   "execution_count": null,
   "metadata": {},
   "outputs": [],
   "source": [
    "i=0  \n",
    "do while(i.le.5) \n",
    "T_agg_ob = ob(i,:)\n",
    "  nni=1\n",
    "  do nn=0, nni-1\n",
    "    TT_desv_ob = dim_stddev_n_Wrap(T_agg_ob,0)\n",
    "    dev_ob(i,nn)=TT_desv_ob(nn)\n",
    "  end do\n",
    "i=i+1\n",
    "end do"
   ]
  },
  {
   "cell_type": "code",
   "execution_count": null,
   "metadata": {},
   "outputs": [],
   "source": [
    "print(dev_ob)"
   ]
  },
  {
   "cell_type": "code",
   "execution_count": null,
   "metadata": {},
   "outputs": [],
   "source": []
  },
  {
   "cell_type": "code",
   "execution_count": null,
   "metadata": {},
   "outputs": [],
   "source": [
    "dev_gfs_1 = new( (/6,1/), float)"
   ]
  },
  {
   "cell_type": "code",
   "execution_count": null,
   "metadata": {},
   "outputs": [],
   "source": [
    "i=0  \n",
    "do while(i.le.5) \n",
    "Tagg_gfs_1 = gfs_1(i,:)\n",
    "  nni=1\n",
    "  do nn=0, nni-1\n",
    "    TT_desv_gfs_1 = dim_stddev_n_Wrap(Tagg_gfs_1,0)\n",
    "    dev_gfs_1(i,nn)=TT_desv_gfs_1(nn)\n",
    "  end do\n",
    "i=i+1\n",
    "end do"
   ]
  },
  {
   "cell_type": "code",
   "execution_count": null,
   "metadata": {},
   "outputs": [],
   "source": [
    "print(dev_gfs_1)"
   ]
  },
  {
   "cell_type": "code",
   "execution_count": null,
   "metadata": {},
   "outputs": [],
   "source": [
    "dev_gfs_2 = new( (/6,1/), float)"
   ]
  },
  {
   "cell_type": "code",
   "execution_count": null,
   "metadata": {},
   "outputs": [],
   "source": [
    "i=0  \n",
    "do while(i.le.5) \n",
    "Tagg_gfs_2 = gfs_2(i,:)\n",
    "  nni=1\n",
    "  do nn=0, nni-1\n",
    "    TT_desv_gfs_2 = dim_stddev_n_Wrap(Tagg_gfs_2,0)\n",
    "    dev_gfs_2(i,nn)=TT_desv_gfs_2(nn)\n",
    "  end do\n",
    "i=i+1\n",
    "end do"
   ]
  },
  {
   "cell_type": "code",
   "execution_count": null,
   "metadata": {},
   "outputs": [],
   "source": [
    "print(dev_gfs_2)"
   ]
  },
  {
   "cell_type": "code",
   "execution_count": null,
   "metadata": {},
   "outputs": [],
   "source": [
    "dev_gfs_3 = new( (/6,1/), float)"
   ]
  },
  {
   "cell_type": "code",
   "execution_count": null,
   "metadata": {},
   "outputs": [],
   "source": [
    "i=0  \n",
    "do while(i.le.5) \n",
    "Tagg_gfs_3 = gfs_3(i,:)\n",
    "  nni=1\n",
    "  do nn=0, nni-1\n",
    "    TT_desv_gfs_3 = dim_stddev_n_Wrap(Tagg_gfs_3,0)\n",
    "    dev_gfs_3(i,nn)=TT_desv_gfs_3(nn)\n",
    "  end do\n",
    "i=i+1\n",
    "end do"
   ]
  },
  {
   "cell_type": "code",
   "execution_count": null,
   "metadata": {},
   "outputs": [],
   "source": [
    "print(dev_gfs_3)"
   ]
  },
  {
   "cell_type": "code",
   "execution_count": null,
   "metadata": {},
   "outputs": [],
   "source": []
  }
 ],
 "metadata": {
  "kernelspec": {
   "display_name": "NCL",
   "language": "ncl",
   "name": "ncl_kernel"
  },
  "language_info": {
   "file_extension": ".ncl",
   "mimetype": "text/plain",
   "name": "ncl"
  }
 },
 "nbformat": 4,
 "nbformat_minor": 2
}
