{
 "cells": [
  {
   "cell_type": "code",
   "execution_count": null,
   "metadata": {},
   "outputs": [],
   "source": []
  },
  {
   "cell_type": "code",
   "execution_count": null,
   "metadata": {},
   "outputs": [],
   "source": []
  },
  {
   "cell_type": "code",
   "execution_count": null,
   "metadata": {},
   "outputs": [],
   "source": []
  },
  {
   "cell_type": "code",
   "execution_count": 7,
   "metadata": {},
   "outputs": [],
   "source": [
    "wks = gsn_open_wks(\"png\",\"maponly\")      ; send graphics to PNG file\n",
    "gsn_define_colormap(wks,\"amwg\")\n",
    "\n",
    "plot = new(1,graphic)\n",
    "\n",
    "  res                       = True  \n",
    "  res@gsnMaximize           = False ; True         ; Maximize plot in frame.\n",
    "  res@mpCenterLonF= 180\n",
    "  res@mpDataBaseVersion    = \"HighRes\"\n",
    "  res@gsnPaperOrientation   = \"Portrait\"\n",
    "  res@pmTickMarkDisplayMode = \"Always\"     ; Turn on map tickmarks\n",
    "  res@mpDataSetName         = \"Earth..4\"   ; This new database contains\n",
    "  res@mpOutlineOn           = True         ; Turn on map outlines\n",
    "  res@mpOutlineSpecifiers   = (/\"Brazil:states\"/) \n",
    "  res@mpFillOn              = True         ; Turn on map fill\n",
    "  res@mpFillBoundarySets    = \"National\"\n",
    "  res@mpFillAreaSpecifiers  = (/\"Brazil:states\"/)\n",
    "  res@tiMainString          = \"States of Brazil\"\n",
    "  res@mpMaxLatF             =  15          ;  South America limits \n",
    "  res@mpMinLatF             = -57\n",
    "  res@mpMaxLonF             = 330\n",
    "  res@mpMinLonF             = 270\n",
    "  res@tiMainOffsetYF = -0.02          ;reduz o espaÃ§o entre o titulo e a imagem\n",
    "  res@tiMainFontHeightF   = 0.02   \n",
    "  res@tiMainString = \"South America\"\n",
    "  \n",
    " txres               = True\n",
    " txres@txFontHeightF = 0.015\n",
    " gsn_text_ndc(wks,\"Figure : Map of South America\",0.5,0.15,txres)\n",
    " res@mpDataBaseVersion     = \"MediumRes\"  ; Medium resolution database\n",
    "\n",
    " plot = gsn_csm_map(wks,res)\n",
    "\n",
    ";************************************************\n",
    "; create panel\n",
    ";************************************************\n",
    "      resP                    = True                 ; modify the panel plot\n",
    "      resP@gsnMaximize          =  False ; True \n",
    "\n",
    ";************************************************\n",
    "; create parameters\n",
    ";************************************************\n",
    "\n",
    "draw(plot)\n",
    "  ;  drawNDCGrid(wks)\n",
    "      txres               = True\n",
    "      ;txres@txFontHeightF = 0.015\n",
    "      txres@txFontHeightF = 0.011\n",
    "     \n",
    "      gsn_text_ndc(wks,\"Figure : Map of South America \",0.5,0.18,txres)\n",
    "\n",
    "      txres@txFont = \"helvetica-bold\"\n",
    "      txres@txBackgroundFillColor = \"White\"\n",
    "      txres@txPerimOn = True\n",
    "      ;#B1 B2 B3 B4 B5 B6\n",
    "      gsn_text_ndc(wks,\"B1\",0.478,0.465,txres) ;OK \n",
    "      gsn_text_ndc(wks,\"B2\",0.59,0.564,txres)  ;OK\n",
    "      gsn_text_ndc(wks,\"B3\",0.478,0.564,txres) ;OK \n",
    "      gsn_text_ndc(wks,\"B4\",0.59,0.643,txres)\n",
    "      gsn_text_ndc(wks,\"B5\",0.478,0.644,txres) ;OK\n",
    "      gsn_text_ndc(wks,\"B6\",0.563,0.53,txres)\n",
    "\n",
    "      ;#Estados do Brasil\n",
    "      delete(txres@txBackgroundFillColor)\n",
    "      delete(txres@txPerimOn)\n",
    "      txres@txFontHeightF = 0.007 \n",
    "      txres@txFont = \"helvetica\"\n",
    "      gsn_text_ndc(wks,\"SP\",0.585,0.49,txres) ;OK \n",
    "      gsn_text_ndc(wks,\"MG\",0.61,0.51,txres) ;OK \n",
    "      gsn_text_ndc(wks,\"ES\",0.64,0.51,txres) ;OK \n",
    "      gsn_text_ndc(wks,\"RJ\",0.63,0.492,txres) ;OK \n",
    "      \n",
    "      gsn_text_ndc(wks,\"AC\",0.435,0.58,txres) ;OK \n",
    "      gsn_text_ndc(wks,\"RO\",0.478,0.583,txres) ;OK \n",
    "      gsn_text_ndc(wks,\"PA\",0.545,0.623,txres) ;OK \n",
    "      gsn_text_ndc(wks,\"AM\",0.485,0.623,txres) ;OK \n",
    "      gsn_text_ndc(wks,\"RR\",0.49,0.67,txres) ;OK \n",
    "      gsn_text_ndc(wks,\"AP\",0.56,0.662,txres) ;OK \n",
    "      gsn_text_ndc(wks,\"TO\",0.585,0.585,txres) ;OK \n",
    "\n",
    "\n",
    "      gsn_text_ndc(wks,\"MT\",0.535,0.553,txres) ;ok\n",
    "      gsn_text_ndc(wks,\"MS\",0.535,0.51,txres) ;ok\n",
    "      gsn_text_ndc(wks,\"GO\",0.585,0.535,txres) ;OK \n",
    "      \n",
    "      gsn_text_ndc(wks,\"MA\",0.61,0.61,txres) ;OK \n",
    "      gsn_text_ndc(wks,\"PI\",0.63,0.6,txres) ;OK \n",
    "      gsn_text_ndc(wks,\"CE\",0.648,0.615,txres) ;OK \n",
    "      gsn_text_ndc(wks,\"RN\",0.7,0.62,txres) ;OK \n",
    "      gsn_text_ndc(wks,\"PB\",0.7,0.605,txres) ;OK \n",
    "      gsn_text_ndc(wks,\"PE\",0.7,0.593,txres) ;OK\n",
    "      gsn_text_ndc(wks,\"AL\",0.7,0.58,txres) ;OK\n",
    "      gsn_text_ndc(wks,\"SE\",0.7,0.565,txres) ;OK\n",
    "      gsn_text_ndc(wks,\"BA\",0.63,0.56,txres) ;OK \n",
    "\n",
    "      gsn_text_ndc(wks,\"RS\",0.545,0.44,txres) ;OK \n",
    "      gsn_text_ndc(wks,\"SC\",0.568,0.455,txres) ;OK \n",
    "      gsn_text_ndc(wks,\"PR\",0.562,0.469,txres) ;OK \n",
    "\n",
    "ret = True\n",
    "    ret@gsLineColor       = \"black\"                 ; color of lines\n",
    "    ret@gsLineThicknessF  = 2.5 \n",
    "    ;#> RN\n",
    "    cirx6 = (/ .670, .670, .670, .670,  .69/)\n",
    "    ciry6 = (/ .61, .61, .61, .61,  .62 /)\n",
    "    gsn_polyline_ndc(wks,cirx6,ciry6,ret)  ; retangulo legend\n",
    "\n",
    "    ;#> PB\n",
    "    cirx6 = (/ .670, .670, .670, .670,  .69/)\n",
    "    ciry6 = (/ .60, .60, .60, .60,  .605 /)\n",
    "    gsn_polyline_ndc(wks,cirx6,ciry6,ret)  ; retangulo legend\n",
    "\n",
    "     ;#> PE\n",
    "    cirx6 = (/ .670, .670, .670, .670,  .69/)\n",
    "    ciry6 = (/ .59, .59, .59, .59,  .593 /)\n",
    "    gsn_polyline_ndc(wks,cirx6,ciry6,ret)  ; retangulo legend\n",
    "\n",
    "      ;#> AL\n",
    "    cirx6 = (/ .670, .670, .670, .670,  .69/)\n",
    "    ciry6 = (/ .58, .58, .58, .58,  .58 /)\n",
    "    gsn_polyline_ndc(wks,cirx6,ciry6,ret)  ; retangulo legend\n",
    "\n",
    "       ;#> SE\n",
    "    cirx6 = (/ .660, .660, .660, .660,  .69/)\n",
    "    ciry6 = (/ .575, .575, .575, .575,  .568 /)\n",
    "    gsn_polyline_ndc(wks,cirx6,ciry6,ret)  ; retangulo legend\n",
    "\n",
    "     ;#Retangulo\n",
    "    ret = True             ; Indicate you want to set some resources.\n",
    "    ret@gsLineColor       = \"black\"                 ; color of lines\n",
    "    ret@gsLineThicknessF  = 3.8 \n",
    "    ;#Retangulo B1\n",
    "    ;cirx = (/ .638, .500, .500, .638,  .638/)\n",
    "    cirx = (/ .575, .465, .465, .575,  .575/)\n",
    "    ciry = (/ .475, .475, .385, .385,  .475 /)\n",
    "    gsn_polyline_ndc(wks,cirx,ciry,ret)  ; retangulo legend\n",
    "    ;#Retangulo B2 ok \n",
    "    cirx2 = (/ .680, .575, .575, .680,  .680/)\n",
    "    ciry2 = (/ .575, .575, .475, .475,  .575 /)\n",
    "    gsn_polyline_ndc(wks,cirx2,ciry2,ret)  ; retangulo legend\n",
    "    ;#Retangulo B3 ok\n",
    "    cirx3 = (/ .575, .465, .465, .575,  .575/)\n",
    "    ciry3 = (/ .575, .575, .475, .475,  .575 /)\n",
    "    gsn_polyline_ndc(wks,cirx3,ciry3,ret)  ; retangulo legend\n",
    "     ;#Retangulo B4 ok\n",
    "    cirx4 = (/ .680, .575, .575, .680,  .680/)\n",
    "    ciry4 = (/ .575, .575, .654, .654,  .575 /)\n",
    "    gsn_polyline_ndc(wks,cirx4,ciry4,ret)  ; retangulo legend\n",
    "    ;#Retangulo B5 ok\n",
    "    cirx5 = (/ .575, .465, .465, .575,  .575/)\n",
    "    ciry5 = (/ .654, .654, .575, .575,  .654 /)\n",
    "    gsn_polyline_ndc(wks,cirx5,ciry5,ret)  ; retangulo legend\n",
    "     ;#Retangulo B6 ok\n",
    "    ;cirx = (/ .675, .535, .535, .675,  .675/)\n",
    "    cirx6 = (/ .680, .550, .550, .680,  .680/)\n",
    "    ciry6 = (/ .543, .543, .475, .475,  .543 /)\n",
    "    ret@gsLineColor       = \"red\"\n",
    "    gsn_polyline_ndc(wks,cirx6,ciry6,ret)  ; retangulo legend\n",
    "\n"
   ]
  },
  {
   "cell_type": "code",
   "execution_count": 8,
   "metadata": {},
   "outputs": [
    {
     "name": "stdout",
     "output_type": "stream",
     "text": [
      "./maponly"
     ]
    },
    {
     "data": {
      "image/png": "[encoded data removed]"
     },
     "metadata": {},
     "output_type": "display_data"
    }
   ],
   "source": [
    "frame(wks)"
   ]
  },
  {
   "cell_type": "code",
   "execution_count": 9,
   "metadata": {},
   "outputs": [],
   "source": [
    "delete(wks)\n",
    "\n"
   ]
  },
  {
   "cell_type": "markdown",
   "metadata": {},
   "source": [
    "![teste](maponly.000002.png)"
   ]
  },
  {
   "cell_type": "code",
   "execution_count": null,
   "metadata": {},
   "outputs": [],
   "source": []
  },
  {
   "cell_type": "code",
   "execution_count": null,
   "metadata": {},
   "outputs": [],
   "source": []
  },
  {
   "cell_type": "code",
   "execution_count": null,
   "metadata": {},
   "outputs": [],
   "source": []
  },
  {
   "cell_type": "code",
   "execution_count": 10,
   "metadata": {},
   "outputs": [],
   "source": [
    "load \"$NCARG_ROOT/lib/ncarg/nclscripts/csm/gsn_code.ncl\"\n",
    "load \"$NCARG_ROOT/lib/ncarg/nclscripts/csm/gsn_csm.ncl\"\n",
    "load \"$NCARG_ROOT/lib/ncarg/nclscripts/csm/contributed.ncl\"\n",
    "load \"$NCARG_ROOT/lib/ncarg/nclscripts/csm/shea_util.ncl\""
   ]
  },
  {
   "cell_type": "code",
   "execution_count": null,
   "metadata": {},
   "outputs": [],
   "source": []
  },
  {
   "cell_type": "code",
   "execution_count": 11,
   "metadata": {},
   "outputs": [],
   "source": [
    "files = systemfunc(\"ls *.nc\")  \n",
    "f = addfiles(files,\"r\")"
   ]
  },
  {
   "cell_type": "code",
   "execution_count": 12,
   "metadata": {},
   "outputs": [],
   "source": [
    ";print(f)"
   ]
  },
  {
   "cell_type": "markdown",
   "metadata": {},
   "source": [
    "<!DOCTYPE html>\n",
    "<html>\n",
    "<head>\n",
    "</head>\n",
    "<body>\n",
    "    <div>\n",
    "        <h3>Posicionamento das variáveis dentro do diretório e alinhando com o seu devido local.</h3>\n",
    "    </div>\n",
    "    <table>\n",
    "        <thead>\n",
    "            <th>Dado</th>\n",
    "            <th>Var</th>\n",
    "            <th>Posição</th>\n",
    "        </thead>\n",
    "        <tbody>\n",
    "            <td>GPM</td>\n",
    "            <td>n_ob</td>\n",
    "            <td>0</td>\n",
    "        </tbody>\n",
    "        <tbody>\n",
    "            <td></td>\n",
    "            <td>n_ncep_1</td>\n",
    "            <td>1</td>\n",
    "        </tbody>\n",
    "        <tbody>\n",
    "            <td>BAM-NCEP</td>\n",
    "            <td>n_ncep_2</td>\n",
    "            <td>3</td>\n",
    "        </tbody>\n",
    "        <tbody>\n",
    "            <td></td>\n",
    "            <td>n_ncep_3</td>\n",
    "            <td>5</td>\n",
    "        </tbody>\n",
    "        <tbody>\n",
    "            <td></td>\n",
    "            <td>n_smg_1</td>\n",
    "            <td>2</td>\n",
    "        </tbody>\n",
    "        <tbody>\n",
    "            <td>BAM-SMG v2.0.0</td>\n",
    "            <td>n_smg_2</td>\n",
    "            <td>4</td>\n",
    "        </tbody>\n",
    "        <tbody>\n",
    "            <td></td>\n",
    "            <td>n_smg_3</td>\n",
    "            <td>6</td>\n",
    "        </tbody>\n",
    "        <tbody>\n",
    "            <td></td>\n",
    "            <td>n_smg_sv_1</td>\n",
    "            <td>?</td>\n",
    "        </tbody>\n",
    "        <tbody>\n",
    "            <td>BAM-SMG v2.1.0</td>\n",
    "            <td>n_smg_sv_2</td>\n",
    "            <td>?</td>\n",
    "        </tbody>\n",
    "        <tbody>\n",
    "            <td></td>\n",
    "            <td>n_smg_sv_3</td>\n",
    "            <td>?</td>\n",
    "        </tbody>\n",
    "        <tbody>\n",
    "            <td></td>\n",
    "            <td>n_gfs_1</td>\n",
    "            <td>10</td>\n",
    "        </tbody>\n",
    "         <tbody>\n",
    "            <td>GFS</td>\n",
    "            <td>n_gfs_2</td>\n",
    "            <td>11</td>\n",
    "        </tbody>\n",
    "         <tbody>\n",
    "            <td></td>\n",
    "            <td>n_gfs_3</td>\n",
    "            <td>12</td>\n",
    "        </tbody>\n",
    "    </table>\n",
    "</body>\n",
    "</html>"
   ]
  },
  {
   "cell_type": "markdown",
   "metadata": {},
   "source": [
    "<!DOCTYPE html>\n",
    "<html>\n",
    "<head>\n",
    "</head>\n",
    "    <body>\n",
    "        <h6>Observado.</h6>\n",
    "    </body>\n",
    "</html>"
   ]
  },
  {
   "cell_type": "code",
   "execution_count": 13,
   "metadata": {},
   "outputs": [],
   "source": [
    "n_ob=0"
   ]
  },
  {
   "cell_type": "markdown",
   "metadata": {},
   "source": [
    "<!DOCTYPE html>\n",
    "<html>\n",
    "<head>\n",
    "</head>\n",
    "    <body>\n",
    "        <h6>BAM-NCEP.</h6>\n",
    "    </body>\n",
    "</html>"
   ]
  },
  {
   "cell_type": "code",
   "execution_count": 14,
   "metadata": {},
   "outputs": [],
   "source": [
    "n_ncep_1=1\n",
    "n_ncep_2=4\n",
    "n_ncep_3=7"
   ]
  },
  {
   "cell_type": "markdown",
   "metadata": {},
   "source": [
    "<!DOCTYPE html>\n",
    "<html>\n",
    "<head>\n",
    "</head>\n",
    "    <body>\n",
    "        <h6>BAM-SMG versão 2.0.0</h6>\n",
    "    </body>\n",
    "</html>"
   ]
  },
  {
   "cell_type": "code",
   "execution_count": 15,
   "metadata": {},
   "outputs": [],
   "source": [
    "n_smg_1=2\n",
    "n_smg_2=5\n",
    "n_smg_3=8"
   ]
  },
  {
   "cell_type": "markdown",
   "metadata": {},
   "source": [
    "<!DOCTYPE html>\n",
    "<html>\n",
    "<head>\n",
    "</head>\n",
    "    <body>\n",
    "        <h6>BAM-SMG versão 2.1.0</h6>\n",
    "    </body>\n",
    "</html>"
   ]
  },
  {
   "cell_type": "code",
   "execution_count": 16,
   "metadata": {},
   "outputs": [],
   "source": [
    "n_smg_sv_1=3\n",
    "n_smg_sv_2=6\n",
    "n_smg_sv_3=9\n",
    ";sv -> segunda versao"
   ]
  },
  {
   "cell_type": "markdown",
   "metadata": {},
   "source": [
    "<!DOCTYPE html>\n",
    "<html>\n",
    "<head>\n",
    "</head>\n",
    "    <body>\n",
    "        <h6>GFS</h6>\n",
    "    </body>\n",
    "</html>"
   ]
  },
  {
   "cell_type": "code",
   "execution_count": 17,
   "metadata": {},
   "outputs": [],
   "source": [
    "n_gfs_1=10\n",
    "n_gfs_2=11\n",
    "n_gfs_3=12"
   ]
  },
  {
   "cell_type": "markdown",
   "metadata": {},
   "source": [
    "<!DOCTYPE html>\n",
    "<html>\n",
    "<head>\n",
    "</head>\n",
    "    <body>\n",
    "        <h6>ÁREAS</h6>\n",
    "         <div>\n",
    "     <table>\n",
    "      <thead>\n",
    "       <th>área</th>   \n",
    "       <th>latitude inicial</th>\n",
    "       <th>latitude final</th>\n",
    "       <th>longitude inicial</th>\n",
    "       <th>longitude final</th>\n",
    "      </thead>\n",
    "      <tbody>\n",
    "       <td>South American</td>   \n",
    "       <td>-36</td>\n",
    "       <td>0</td>\n",
    "       <td>280</td>\n",
    "       <td>325</td>   \n",
    "      </tbody>\n",
    "      <tbody>\n",
    "       <td>La Plata</td>\n",
    "       <td>-36</td>\n",
    "       <td>-24</td>\n",
    "       <td>295</td>\n",
    "       <td>315</td>\n",
    "      </tbody>\n",
    "      <tbody>\n",
    "       <td>Southeast</td>\n",
    "       <td>-24</td>\n",
    "       <td>-12</td>\n",
    "       <td>310</td>\n",
    "       <td>325</td>\n",
    "      </tbody>\n",
    "      <tbody>\n",
    "       <td>Central West</td>\n",
    "       <td>-24</td>\n",
    "       <td>-12</td>\n",
    "       <td>295</td>\n",
    "       <td>310</td> \n",
    "      </tbody>\n",
    "      <tbody>\n",
    "       <td>Northeast</td>\n",
    "       <td>-12</td>\n",
    "       <td>0</td>\n",
    "       <td>310</td>\n",
    "       <td>325</td> \n",
    "      </tbody>\n",
    "      <tbody>\n",
    "       <td>Amazon</td>\n",
    "       <td>-12</td>\n",
    "       <td>0</td>\n",
    "       <td>295</td>\n",
    "       <td>310</td> \n",
    "      </tbody>\n",
    "     </table>\n",
    "    </div>\n",
    "    </body>\n",
    "</html>"
   ]
  },
  {
   "cell_type": "code",
   "execution_count": 18,
   "metadata": {},
   "outputs": [],
   "source": [
    "area =(/ \"SA\" ,  \"La_Plata\",  \"southeast\",   \"Central_West\" , \"northeast\" ,\"Amazon\" /)\n",
    "lai  =(/  -36 ,  -36       ,  -24        ,  -24             , -12         ,  -12    /)\n",
    "laf  =(/    0 ,  -24       ,  -12        ,  -12             , 0           ,  0     /)\n",
    "loi  =(/  280 ,  295       ,  310        ,  295             , 310         ,  295    /)\n",
    "lof  =(/  325 ,  315       ,  325        ,  310             , 325         ,  310    /)"
   ]
  },
  {
   "cell_type": "code",
   "execution_count": 19,
   "metadata": {},
   "outputs": [],
   "source": [
    "ob = new( (/6,25/), float)\n",
    "path = getfilepath (f[n_ob])\n",
    "T_agg = f[n_ob]->PREC_surface(:,:,:)\n",
    "T_agg@_FillValue=-9.99e+08\n",
    "i=0\n",
    "k=0\n",
    "    do while(i.le.5) .and. (k.le.5)    \n",
    "        nni=25\n",
    "        do nn=0, nni-1         \n",
    "            TT=dim_avg_Wrap(dim_avg_Wrap(T_agg(:,{lai(k):laf(k)},{loi(k):lof(k)})))\n",
    "            ob(i,nn)=TT(nn)\n",
    "        end do  \n",
    "    k=k+1\n",
    "    i=i+1\n",
    "end do"
   ]
  },
  {
   "cell_type": "code",
   "execution_count": 20,
   "metadata": {
    "scrolled": true
   },
   "outputs": [],
   "source": [
    ";print(path)"
   ]
  },
  {
   "cell_type": "code",
   "execution_count": 21,
   "metadata": {},
   "outputs": [],
   "source": [
    ";print (ob)"
   ]
  },
  {
   "cell_type": "code",
   "execution_count": 22,
   "metadata": {},
   "outputs": [],
   "source": [
    "gfs_1 = new( (/6,25/), float)\n",
    "path_gfs_1 = getfilepath (f[n_gfs_1])\n",
    "T_agg_gfs_1 = f[n_gfs_1]->APCP_surface(:,:,:)\n",
    "T_agg_gfs_1@_FillValue=-9.99e+08\n",
    "i=0  \n",
    "k=0\n",
    "do while(i.le.5) .and. (k.le.5)   \n",
    "  nni=25\n",
    "  do nn=0, nni-1\n",
    "    TT_gfs_1=dim_avg_Wrap(dim_avg_Wrap(T_agg_gfs_1(:,{lai(k):laf(k)},{loi(k):lof(k)})))\n",
    "    gfs_1(i,nn)=TT_gfs_1(nn)\n",
    "  end do\n",
    "i=i+1\n",
    "k=k+1\n",
    "end do"
   ]
  },
  {
   "cell_type": "code",
   "execution_count": 23,
   "metadata": {},
   "outputs": [],
   "source": [
    ";print(path_gfs_1)"
   ]
  },
  {
   "cell_type": "code",
   "execution_count": 24,
   "metadata": {},
   "outputs": [],
   "source": [
    ";print (gfs_1)"
   ]
  },
  {
   "cell_type": "code",
   "execution_count": 25,
   "metadata": {},
   "outputs": [],
   "source": [
    "gfs_2 = new( (/6,25/), float)\n",
    "path_gfs_2 = getfilepath (f[n_gfs_2])\n",
    "T_agg_gfs_2 = f[n_gfs_2]->APCP_surface(:,:,:)\n",
    "T_agg_gfs_2@_FillValue=-9.99e+08\n",
    "i=0  \n",
    "k=0\n",
    "do while(i.le.5) .and. (k.le.5)   \n",
    "  nni=25\n",
    "  do nn=0, nni-1\n",
    "    TT_gfs_2=dim_avg_Wrap(dim_avg_Wrap(T_agg_gfs_2(:,{lai(k):laf(k)},{loi(k):lof(k)})))\n",
    "    gfs_2(i,nn)=TT_gfs_2(nn)\n",
    "  end do\n",
    "i=i+1\n",
    "k=k+1\n",
    "end do"
   ]
  },
  {
   "cell_type": "code",
   "execution_count": 26,
   "metadata": {},
   "outputs": [],
   "source": [
    ";print(path_gfs_2)"
   ]
  },
  {
   "cell_type": "code",
   "execution_count": 27,
   "metadata": {},
   "outputs": [],
   "source": [
    ";print (gfs_2)"
   ]
  },
  {
   "cell_type": "code",
   "execution_count": 28,
   "metadata": {},
   "outputs": [],
   "source": [
    "gfs_3 = new( (/6,25/), float)\n",
    "path_gfs_3 = getfilepath (f[n_gfs_3])\n",
    "T_agg_gfs_3 = f[n_gfs_3]->APCP_surface(:,:,:)\n",
    "T_agg_gfs_3@_FillValue=-9.99e+08\n",
    "i=0  \n",
    "k=0\n",
    "do while(i.le.5) .and. (k.le.5)   \n",
    "  nni=25\n",
    "  do nn=0, nni-1\n",
    "    TT_gfs_3=dim_avg_Wrap(dim_avg_Wrap(T_agg_gfs_3(:,{lai(k):laf(k)},{loi(k):lof(k)})))\n",
    "    gfs_3(i,nn)=TT_gfs_3(nn)\n",
    "  end do\n",
    "i=i+1\n",
    "k=k+1\n",
    "end do"
   ]
  },
  {
   "cell_type": "code",
   "execution_count": 29,
   "metadata": {},
   "outputs": [],
   "source": [
    ";print(path_gfs_3)"
   ]
  },
  {
   "cell_type": "code",
   "execution_count": 30,
   "metadata": {},
   "outputs": [],
   "source": [
    ";print (gfs_3)\n"
   ]
  },
  {
   "cell_type": "code",
   "execution_count": 31,
   "metadata": {},
   "outputs": [],
   "source": [
    "bam_ncep_1 = new( (/6,25/), float)\n",
    "path_bam_ncep_1 = getfilepath (f[n_ncep_1])\n",
    "T_agg_bam_ncep_1 = f[n_ncep_1]->prec(:,:,:)\n",
    "T_agg_bam_ncep_1@_FillValue=-9.99e+08\n",
    "i=0  \n",
    "k=0\n",
    "do while(i.le.5) .and. (k.le.5)   \n",
    "  nni=25\n",
    "  do nn=0, nni-1\n",
    "    TT_bam_ncep_1=dim_avg_Wrap(dim_avg_Wrap(T_agg_bam_ncep_1(:,{lai(k):laf(k)},{loi(k):lof(k)})))\n",
    "    bam_ncep_1(i,nn)=TT_bam_ncep_1(nn)\n",
    "  end do\n",
    "i=i+1\n",
    "k=k+1\n",
    "end do"
   ]
  },
  {
   "cell_type": "code",
   "execution_count": 32,
   "metadata": {},
   "outputs": [],
   "source": [
    ";print(path_bam_ncep_1)"
   ]
  },
  {
   "cell_type": "code",
   "execution_count": 33,
   "metadata": {},
   "outputs": [],
   "source": [
    ";print (bam_ncep_1)"
   ]
  },
  {
   "cell_type": "code",
   "execution_count": 34,
   "metadata": {},
   "outputs": [],
   "source": [
    "bam_ncep_2 = new( (/6,25/), float)\n",
    "path_bam_ncep_2 = getfilepath (f[n_ncep_2])\n",
    "T_agg_bam_ncep_2 = f[n_ncep_2]->prec(:,:,:)\n",
    "T_agg_bam_ncep_2@_FillValue=-9.99e+08\n",
    "i=0  \n",
    "k=0\n",
    "do while(i.le.5) .and. (k.le.5)   \n",
    "  nni=25\n",
    "  do nn=0, nni-1\n",
    "    TT_bam_ncep_2=dim_avg_Wrap(dim_avg_Wrap(T_agg_bam_ncep_2(:,{lai(k):laf(k)},{loi(k):lof(k)})))\n",
    "    bam_ncep_2(i,nn)=TT_bam_ncep_2(nn)\n",
    "  end do\n",
    "i=i+1\n",
    "k=k+1\n",
    "end do"
   ]
  },
  {
   "cell_type": "code",
   "execution_count": 35,
   "metadata": {},
   "outputs": [],
   "source": [
    ";print(path_bam_ncep_2)"
   ]
  },
  {
   "cell_type": "code",
   "execution_count": 36,
   "metadata": {},
   "outputs": [],
   "source": [
    ";print (bam_ncep_2)"
   ]
  },
  {
   "cell_type": "code",
   "execution_count": 37,
   "metadata": {},
   "outputs": [],
   "source": [
    "bam_ncep_3 = new( (/6,25/), float)\n",
    "path_bam_ncep_3 = getfilepath (f[n_ncep_3])\n",
    "T_agg_bam_ncep_3 = f[n_ncep_3]->prec(:,:,:)\n",
    "T_agg_bam_ncep_3@_FillValue=-9.99e+08\n",
    "i=0  \n",
    "k=0\n",
    "do while(i.le.5) .and. (k.le.5)   \n",
    "  nni=25\n",
    "  do nn=0, nni-1\n",
    "    TT_bam_ncep_3=dim_avg_Wrap(dim_avg_Wrap(T_agg_bam_ncep_3(:,{lai(k):laf(k)},{loi(k):lof(k)})))\n",
    "    bam_ncep_3(i,nn)=TT_bam_ncep_3(nn)\n",
    "  end do\n",
    "i=i+1\n",
    "k=k+1\n",
    "end do"
   ]
  },
  {
   "cell_type": "code",
   "execution_count": 38,
   "metadata": {},
   "outputs": [],
   "source": [
    ";print(path_bam_ncep_3)"
   ]
  },
  {
   "cell_type": "code",
   "execution_count": 39,
   "metadata": {},
   "outputs": [],
   "source": [
    ";print (bam_ncep_3)"
   ]
  },
  {
   "cell_type": "code",
   "execution_count": 40,
   "metadata": {},
   "outputs": [],
   "source": [
    "bam_smg_1 = new( (/6,25/), float)\n",
    "path_bam_smg_1 = getfilepath (f[n_smg_1])\n",
    "T_agg_bam_smg_1 = f[n_smg_1]->prec(:,:,:)\n",
    "T_agg_bam_smg_1@_FillValue=-9.99e+08\n",
    "i=0  \n",
    "k=0\n",
    "do while(i.le.5) .and. (k.le.5)   \n",
    "  nni=25\n",
    "  do nn=0, nni-1\n",
    "    TT_bam_smg_1=dim_avg_Wrap(dim_avg_Wrap(T_agg_bam_smg_1(:,{lai(k):laf(k)},{loi(k):lof(k)})))\n",
    "    bam_smg_1(i,nn)=TT_bam_smg_1(nn)\n",
    "  end do\n",
    "i=i+1\n",
    "k=k+1\n",
    "end do"
   ]
  },
  {
   "cell_type": "code",
   "execution_count": 41,
   "metadata": {},
   "outputs": [],
   "source": [
    ";print(path_bam_smg_1)"
   ]
  },
  {
   "cell_type": "code",
   "execution_count": 42,
   "metadata": {},
   "outputs": [],
   "source": [
    ";print(bam_smg_1)"
   ]
  },
  {
   "cell_type": "code",
   "execution_count": 43,
   "metadata": {},
   "outputs": [],
   "source": [
    "bam_smg_2 = new( (/6,25/), float)\n",
    "path_bam_smg_2 = getfilepath (f[n_smg_2])\n",
    "T_agg_bam_smg_2 = f[n_smg_2]->prec(:,:,:)\n",
    "T_agg_bam_smg_2@_FillValue=-9.99e+08\n",
    "i=0  \n",
    "k=0\n",
    "do while(i.le.5) .and. (k.le.5)   \n",
    "  nni=25\n",
    "  do nn=0, nni-1\n",
    "    TT_bam_smg_2=dim_avg_Wrap(dim_avg_Wrap(T_agg_bam_smg_2(:,{lai(k):laf(k)},{loi(k):lof(k)})))\n",
    "    bam_smg_2(i,nn)=TT_bam_smg_2(nn)\n",
    "  end do\n",
    "i=i+1\n",
    "k=k+1\n",
    "end do"
   ]
  },
  {
   "cell_type": "code",
   "execution_count": 44,
   "metadata": {},
   "outputs": [],
   "source": [
    ";print(path_bam_smg_2)"
   ]
  },
  {
   "cell_type": "code",
   "execution_count": 45,
   "metadata": {},
   "outputs": [],
   "source": [
    ";print(bam_smg_2)"
   ]
  },
  {
   "cell_type": "code",
   "execution_count": 46,
   "metadata": {},
   "outputs": [],
   "source": [
    "bam_smg_3 = new( (/6,25/), float)\n",
    "path_bam_smg_3 = getfilepath (f[n_smg_3])\n",
    "T_agg_bam_smg_3 = f[n_smg_3]->prec(:,:,:)\n",
    "T_agg_bam_smg_3@_FillValue=-9.99e+08\n",
    "i=0  \n",
    "k=0\n",
    "do while(i.le.5) .and. (k.le.5)   \n",
    "  nni=25\n",
    "  do nn=0, nni-1\n",
    "    TT_bam_smg_3=dim_avg_Wrap(dim_avg_Wrap(T_agg_bam_smg_3(:,{lai(k):laf(k)},{loi(k):lof(k)})))\n",
    "    bam_smg_3(i,nn)=TT_bam_smg_3(nn)\n",
    "  end do\n",
    "i=i+1\n",
    "k=k+1\n",
    "end do"
   ]
  },
  {
   "cell_type": "code",
   "execution_count": 47,
   "metadata": {},
   "outputs": [],
   "source": [
    ";print(path_bam_smg_3)"
   ]
  },
  {
   "cell_type": "code",
   "execution_count": 48,
   "metadata": {},
   "outputs": [],
   "source": [
    ";print(bam_smg_3)"
   ]
  },
  {
   "cell_type": "code",
   "execution_count": 49,
   "metadata": {},
   "outputs": [],
   "source": [
    "bam_smg_sv_1 = new( (/6,25/), float)\n",
    "path_bam_smg_sv_1 = getfilepath (f[n_smg_sv_1])\n",
    "T_agg_bam_smg_sv_1 = f[n_smg_sv_1]->prec(:,:,:)\n",
    "T_agg_bam_smg_sv_1@_FillValue=-9.99e+08\n",
    "i=0  \n",
    "k=0\n",
    "do while(i.le.5) .and. (k.le.5)   \n",
    "  nni=25\n",
    "  do nn=0, nni-1\n",
    "    TT_bam_smg_sv_1=dim_avg_Wrap(dim_avg_Wrap(T_agg_bam_smg_sv_1(:,{lai(k):laf(k)},{loi(k):lof(k)})))\n",
    "    bam_smg_sv_1(i,nn)=TT_bam_smg_sv_1(nn)\n",
    "  end do\n",
    "i=i+1\n",
    "k=k+1\n",
    "end do"
   ]
  },
  {
   "cell_type": "code",
   "execution_count": 50,
   "metadata": {},
   "outputs": [],
   "source": [
    ";print(path_bam_smg_sv_1)"
   ]
  },
  {
   "cell_type": "code",
   "execution_count": 51,
   "metadata": {},
   "outputs": [],
   "source": [
    ";print(bam_smg_sv_1)"
   ]
  },
  {
   "cell_type": "code",
   "execution_count": 52,
   "metadata": {},
   "outputs": [],
   "source": [
    "bam_smg_sv_2 = new( (/6,25/), float)\n",
    "path_bam_smg_sv_2 = getfilepath (f[n_smg_sv_2])\n",
    "T_agg_bam_smg_sv_2 = f[n_smg_sv_2]->prec(:,:,:)\n",
    "T_agg_bam_smg_sv_2@_FillValue=-9.99e+08\n",
    "i=0  \n",
    "k=0\n",
    "do while(i.le.5) .and. (k.le.5)   \n",
    "  nni=25\n",
    "  do nn=0, nni-1\n",
    "    TT_bam_smg_sv_2=dim_avg_Wrap(dim_avg_Wrap(T_agg_bam_smg_sv_2(:,{lai(k):laf(k)},{loi(k):lof(k)})))\n",
    "    bam_smg_sv_2(i,nn)=TT_bam_smg_sv_2(nn)\n",
    "  end do\n",
    "i=i+1\n",
    "k=k+1\n",
    "end do"
   ]
  },
  {
   "cell_type": "code",
   "execution_count": 53,
   "metadata": {},
   "outputs": [],
   "source": [
    ";print(path_bam_smg_sv_2)"
   ]
  },
  {
   "cell_type": "code",
   "execution_count": 54,
   "metadata": {},
   "outputs": [],
   "source": [
    ";print(bam_smg_sv_2)"
   ]
  },
  {
   "cell_type": "code",
   "execution_count": 55,
   "metadata": {},
   "outputs": [],
   "source": [
    "bam_smg_sv_3 = new( (/6,25/), float)\n",
    "path_bam_smg_sv_3 = getfilepath (f[n_smg_sv_3])\n",
    "T_agg_bam_smg_sv_3 = f[n_smg_sv_3]->prec(:,:,:)\n",
    "T_agg_bam_smg_sv_3@_FillValue=-9.99e+08\n",
    "i=0  \n",
    "k=0\n",
    "do while(i.le.5) .and. (k.le.5)   \n",
    "  nni=25\n",
    "  do nn=0, nni-1\n",
    "    TT_bam_smg_sv_3=dim_avg_Wrap(dim_avg_Wrap(T_agg_bam_smg_sv_3(:,{lai(k):laf(k)},{loi(k):lof(k)})))\n",
    "    bam_smg_sv_3(i,nn)=TT_bam_smg_sv_3(nn)\n",
    "  end do\n",
    "i=i+1\n",
    "k=k+1\n",
    "end do"
   ]
  },
  {
   "cell_type": "code",
   "execution_count": 56,
   "metadata": {},
   "outputs": [],
   "source": [
    ";print(path_bam_smg_sv_3)"
   ]
  },
  {
   "cell_type": "code",
   "execution_count": 57,
   "metadata": {},
   "outputs": [],
   "source": [
    ";print(bam_smg_sv_3)"
   ]
  },
  {
   "cell_type": "markdown",
   "metadata": {},
   "source": [
    "#### time"
   ]
  },
  {
   "cell_type": "code",
   "execution_count": 58,
   "metadata": {},
   "outputs": [],
   "source": [
    "time = new( (/6,25/), float)\n",
    "path_time_bam_ncep_1 = getfilepath (f[n_ncep_1])\n",
    "Time_bam_ncep_1 = f[n_ncep_1]->time(:)\n",
    "Time_bam_ncep_1@_FillValue=-9.99e+08"
   ]
  },
  {
   "cell_type": "code",
   "execution_count": 59,
   "metadata": {},
   "outputs": [],
   "source": [
    "tm = Time_bam_ncep_1"
   ]
  },
  {
   "cell_type": "code",
   "execution_count": 60,
   "metadata": {},
   "outputs": [],
   "source": [
    ";print(tm)"
   ]
  },
  {
   "cell_type": "markdown",
   "metadata": {},
   "source": [
    "###### converter de float para double\n",
    "\n",
    "Nesse trecho usamos uma função chamada **todouble** que tem a finalidade de pegar a váriavel que se encontra em *float* e transforma-la em *double*.\n",
    "\n",
    "```\n",
    "nome_variavel_tdb = todouble(nome_variavel)\n",
    "```\n",
    "A sigla *tdb* acrescentei para diferenciar a váriavel original da váriavel modificada com o **tobouble**.\n",
    "\n",
    "**obs.:** Tentei modificar anteriormente porém ainda não encontrei uma solução"
   ]
  },
  {
   "cell_type": "markdown",
   "metadata": {},
   "source": [
    "- observado"
   ]
  },
  {
   "cell_type": "code",
   "execution_count": 61,
   "metadata": {},
   "outputs": [],
   "source": [
    "ob_tdb = todouble(ob)"
   ]
  },
  {
   "cell_type": "markdown",
   "metadata": {},
   "source": [
    "- previsão de 24 horas "
   ]
  },
  {
   "cell_type": "code",
   "execution_count": 62,
   "metadata": {},
   "outputs": [],
   "source": [
    "bam_smg_1_tdb = todouble(bam_smg_1)\n",
    "bam_ncep_1_tdb = todouble(bam_ncep_1)\n",
    "gfs_1_tdb= todouble(gfs_1)\n",
    "bam_smg_sv_1_tdb = todouble(bam_smg_sv_1)"
   ]
  },
  {
   "cell_type": "markdown",
   "metadata": {},
   "source": [
    "- previsão de 48 horas "
   ]
  },
  {
   "cell_type": "code",
   "execution_count": 63,
   "metadata": {},
   "outputs": [],
   "source": [
    "bam_smg_2_tdb = todouble(bam_smg_2)\n",
    "bam_ncep_2_tdb = todouble(bam_ncep_2)\n",
    "gfs_2_tdb= todouble(gfs_2)\n",
    "bam_smg_sv_2_tdb = todouble(bam_smg_sv_2)"
   ]
  },
  {
   "cell_type": "markdown",
   "metadata": {},
   "source": [
    "- previsão de 72 horas "
   ]
  },
  {
   "cell_type": "code",
   "execution_count": 64,
   "metadata": {},
   "outputs": [],
   "source": [
    "bam_smg_3_tdb = todouble(bam_smg_3)\n",
    "bam_ncep_3_tdb = todouble(bam_ncep_3)\n",
    "gfs_3_tdb= todouble(gfs_3)\n",
    "bam_smg_sv_3_tdb = todouble(bam_smg_sv_3)"
   ]
  },
  {
   "cell_type": "markdown",
   "metadata": {},
   "source": [
    "### Copia de backup do data original\n",
    "\n",
    "Abaixo deixei dois exemplos de como pode ser feito os arranjos no NCL.\n",
    "\n",
    "Nesse primeiro exemplo, o que muda é na geração do *new*. Foi definido a matriz de 4x25, que corresponde o numero de **data** gerados que possuí 25 dados cada **data**. E também foi utilizado o *float* nesse exemplo.\n",
    "```\n",
    "data1= new( (/6,25/),float)\n",
    "data1(0,:) = (/bam_smg_1(0,:)/)\n",
    "data1(1,:) = (/bam_ncep_1(0,:)/)\n",
    "data1(2,:) = (/ob(0,:)/)\n",
    "data1(3,:) = (/gfs_1(0,:)/)\n",
    "```\n",
    "\n",
    "Nesse segundo exemplo, foi usado a dimensão de dados existentes dentro do arquivo **ob_tdb**, o qual possuí 25 dados. O valor *5* corresponde ao número de **data** que será adicionado dentro do **data** que foi definido com o *new*. Nesse outro exemplo foi utilizado o double.\n",
    "```\n",
    "data1= new((/5,dimsizes(ob_tdb(0,:))/),double)\n",
    "data1(0,:) = (/bam_smg_sv_1_tdb(0,:)/)\n",
    "data1(1,:) = (/bam_smg_1_tdb(0,:)/)\n",
    "data1(2,:) = (/bam_ncep_1_tdb(0,:)/)\n",
    "data1(3,:) = (/ob_tdb(0,:)/)\n",
    "data1(4,:) = (/gfs_1_tdb(0,:)/)\n",
    "```\n",
    "\n",
    "**obs.:** Ainda não consegui acrescentar o *double* lá no inicio quando é feito a média das áreas. Num futuro analisarei a necessidade da refatoração."
   ]
  },
  {
   "cell_type": "markdown",
   "metadata": {},
   "source": [
    "### Array das médias\n",
    "\n",
    "Caso queira verificar a figura gerada por cada 'data' abaixo, podemos utilizar os seguintes códigos:\n",
    "\n",
    "- Criei esse conjunto de comando para que seja gerado apenas uma figura com o **data** selecionado.\n",
    "\n",
    "```\n",
    "  res = True\n",
    "  \n",
    "  res@tiMainString = \"teste\"\n",
    "  \n",
    "  \n",
    "  res@pmLegendDisplayMode    = \"Always\"              ; turn on legend\n",
    "  res@tiYAxisString             = \"Precipitation (mm/day)\"\n",
    "  res@trXMinF                   =tm(0)\n",
    "  res@trXMaxF                   =tm(24) \n",
    "  res@gsnDraw                   = False\n",
    "  res@gsnFrame                  = False\n",
    "  res@xyDashPatterns            = (/0,0,1,0,0/) \n",
    " \n",
    "  res@xyMarkLineMode            = \"Lines\"                     ; Markers *and* lines\n",
    "  res@xyLineThicknessF          = 1.95\n",
    "  res@xyLineColors              = (/\"Tomato\",\"orange\",\"purple\",\"black\",\"forestgreen\"/)\n",
    "  res@tmXBMajorThicknessF       = 0.8\n",
    "  res@tmYLMajorThicknessF       = 0.8\n",
    "  res@tmXBLabelConstantSpacingF = 1.5\n",
    "  res@tmXBMajorLengthF          = 0.0001\n",
    "  res@tmYRMinorOn               = False                                      ; Turn off left minor tickmarks\n",
    "  res@tmXTOn                    = False                                      ; Turn off top tickmarks\n",
    "  res@tmYROn                    = False                                      ; Turn off top tickmarks\n",
    "  res@tmXBMinorOn               = True    \n",
    "  res@tmYRBorderOn              = True                                       ; turn off right axis\n",
    "  res@tmXBMajorOutwardLengthF   = 0.009\n",
    "  res@tmXBMajorLengthF          = 0.004\n",
    "  res@tmBorderThicknessF        = 0.5\n",
    "  res@tmXTBorderOn              = True                                       ; turn off right axis\n",
    "  res@tmXBBorderOn              = True                                       ; turn off right axis\n",
    "  res@tmXBMode                  = \"Explicit\" \n",
    "  res@tmXBLabelFontHeightF      = 0.0125\n",
    "  res@tmXBLabelStride           = 1\n",
    "  res@tmXBLabelAngleF           = 45          ; change label angle\n",
    "  res@tmXBValues                = tm(0:24) ; tm(0:89) \n",
    "  ;>>>>>legenda iniciando no dia 5\n",
    "  res@tmXBLabels                = (/\"5\",\" \",\" \",\" \",\" \",\"10 \",\" \",\" \",\" \",\" \",\"15\",\" \",\" \",\" \",\" \" \\\n",
    "                                  ,\"20\",\" \",\" \",\" \",\"25 \",\" \",\" \",\" \",\" \",\"29\",\" \",\" \",\" \",\" \",\"30\",\" \" \\\n",
    "                                  , \" \",\" \",\" \",\"35\",\" \",\" \",\" \",\" \",\"40\",\" \",\" \",\" \",\" \",\"45\",\" \" \\\n",
    "                                  ,\" \",\" \",\" \",\"50\",\" \",\" \",\" \",\" \",\"55\",\" \",\" \",\" \",\" \",\"60\",\" \",\" \" \\\n",
    "                                  ,\" \",\" \",\"65\",\" \",\" \",\" \",\" \",\"70\",\" \",\" \",\" \",\" \",\"75\",\" \",\" \",\" \" \\\n",
    "                                  ,\" \",\"80\",\" \",\" \",\" \",\" \",\"85\",\" \",\" \",\" \",\" \",\"90\",\" \",\" \"/)\n",
    "\n",
    "\n",
    "\n",
    "\n",
    "  res@tmXBLabelJust             = \"BottomRight\"\n",
    "  res@vpWidthF                  = 0.8                                       ; Set width and height of plot.\n",
    "  res@vpHeightF                 = 0.4\n",
    "  res@lgItemOrder               = (/4,3,2,1,0/)               ; reverse legend \n",
    "  \n",
    "  ```\n",
    "\n",
    "**Para adicionar a legenda:**\n",
    "\n",
    "```\n",
    "  res@pmLegendDisplayMode       = \"Always\"              ; turn on legend\n",
    "  res@pmLegendSide              = \"Top\"                 ; Change location of\n",
    "  res@pmLegendParallelPosF      = .80;                  ; move units right\n",
    "  res@pmLegendOrthogonalPosF    = -.50                  ; more neg = down\n",
    "  res@pmLegendWidthF            = 0.08                   ; Change width and\n",
    "  res@pmLegendHeightF           = 0.13                  ; height of legend.\n",
    "  res@lgLabelFontHeightF        = .018                  ; change font height\n",
    "  res@lgPerimOn                 = False                 ; no box around\n",
    "  res@lgLabelFont               = \"helvetica-bold\"\n",
    "  res@xyExplicitLegendLabels    =(/\"BAM-DAS-v2.1.0\",\"BAM-DAS-v2.0.0\", \"BAM\",\"IMERG\",\"GFS\"/)\n",
    "```\n"
   ]
  },
  {
   "cell_type": "markdown",
   "metadata": {},
   "source": [
    "Antes de fazer alguma modificação no **res** é necessário deletar os dados da memória do **res** anterior para que seja efetuada a devida mudança.\n",
    "\n",
    "```\n",
    "delete(res)\n",
    "```\n",
    "\n",
    "\n",
    "- Colocaremos o **data** que selecionarmos no *data_var* e no *plot_var*. O primeiro será o nome do *arquivo*; o segundo é o arquivo de arranjo que será *plotado*.\n",
    "```\n",
    "data_var = \"data1\"\n",
    "plot_var = data1\n",
    "wks = gsn_open_wks(\"png\", data_var )\n",
    "plot=gsn_csm_xy(wks,tm,plot_var,res)\n",
    "draw(plot) \n",
    "```\n",
    "- Após gerar a figura, o *frame* chama o objeto criado no *wks*\n",
    "```\n",
    "frame(wks)\n",
    "```\n",
    "\n",
    "- Para gerar outras **data**, é recomendado limpar os dados gerados pela **data** anterior.\n",
    "\n",
    "```\n",
    "delete(data_var)\n",
    "delete(plot_var)\n",
    "```\n",
    "\n",
    "**obs.:** Estou analisando a necessidade de criar uma váriavel para adicionar os **data** abaixo, dado que será uma matiz com diversos dados dentro, levando ao usuário ao erro.\n",
    "\n",
    "- Verificação dos **data**\n",
    "```\n",
    "print(<data selecionado>)\n",
    "```"
   ]
  },
  {
   "cell_type": "code",
   "execution_count": 65,
   "metadata": {},
   "outputs": [],
   "source": [
    "data1= new((/5,dimsizes(ob_tdb(0,:))/),double)\n",
    "data1(0,:) = (/bam_smg_sv_1_tdb(0,:)/)\n",
    "data1(1,:) = (/bam_smg_1_tdb(0,:)/)\n",
    "data1(2,:) = (/bam_ncep_1_tdb(0,:)/)\n",
    "data1(3,:) = (/ob_tdb(0,:)/)\n",
    "data1(4,:) = (/gfs_1_tdb(0,:)/)\n",
    "\n"
   ]
  },
  {
   "cell_type": "code",
   "execution_count": 66,
   "metadata": {},
   "outputs": [],
   "source": [
    "data2= new((/5,dimsizes(ob_tdb(0,:))/),double)\n",
    "data2(0,:) = (/bam_smg_sv_1_tdb(0,:)/)\n",
    "data2(1,:) = (/bam_smg_1_tdb(0,:)/)\n",
    "data2(2,:) = (/bam_ncep_1_tdb(0,:)/)\n",
    "data2(3,:) = (/ob_tdb(0,:)/)\n",
    "data2(4,:) = (/gfs_1_tdb(0,:)/)"
   ]
  },
  {
   "cell_type": "code",
   "execution_count": 67,
   "metadata": {},
   "outputs": [],
   "source": [
    "data3= new((/5,dimsizes(ob_tdb(0,:))/),double)\n",
    "data3(0,:) = (/bam_smg_sv_1_tdb(0,:)/)\n",
    "data3(1,:) = (/bam_smg_1_tdb(0,:)/)\n",
    "data3(2,:) = (/bam_ncep_1_tdb(0,:)/)\n",
    "data3(3,:) = (/ob_tdb(0,:)/)\n",
    "data3(4,:) = (/gfs_1_tdb(0,:)/)"
   ]
  },
  {
   "cell_type": "code",
   "execution_count": 68,
   "metadata": {},
   "outputs": [],
   "source": [
    "data4= new((/5,dimsizes(ob_tdb(0,:))/),double)\n",
    "data4(0,:) = (/bam_smg_sv_1_tdb(0,:)/)\n",
    "data4(1,:) = (/bam_smg_1_tdb(0,:)/)\n",
    "data4(2,:) = (/bam_ncep_1_tdb(0,:)/)\n",
    "data4(3,:) = (/ob_tdb(0,:)/)\n",
    "data4(4,:) = (/gfs_1_tdb(0,:)/)"
   ]
  },
  {
   "cell_type": "code",
   "execution_count": 69,
   "metadata": {},
   "outputs": [],
   "source": [
    "data5= new((/5,dimsizes(ob_tdb(0,:))/),double)\n",
    "data5(0,:) = (/bam_smg_sv_1_tdb(0,:)/)\n",
    "data5(1,:) = (/bam_smg_1_tdb(0,:)/)\n",
    "data5(2,:) = (/bam_ncep_1_tdb(0,:)/)\n",
    "data5(3,:) = (/ob_tdb(0,:)/)\n",
    "data5(4,:) = (/gfs_1_tdb(0,:)/)"
   ]
  },
  {
   "cell_type": "code",
   "execution_count": 70,
   "metadata": {},
   "outputs": [],
   "source": [
    "data6= new((/5,dimsizes(ob_tdb(0,:))/),double)\n",
    "data6(0,:) = (/bam_smg_sv_1_tdb(0,:)/)\n",
    "data6(1,:) = (/bam_smg_1_tdb(0,:)/)\n",
    "data6(2,:) = (/bam_ncep_1_tdb(0,:)/)\n",
    "data6(3,:) = (/ob_tdb(0,:)/)\n",
    "data6(4,:) = (/gfs_1_tdb(0,:)/)"
   ]
  },
  {
   "cell_type": "code",
   "execution_count": 71,
   "metadata": {},
   "outputs": [],
   "source": [
    "data7= new((/5,dimsizes(ob_tdb(0,:))/),double)\n",
    "data7(0,:) = (/bam_smg_sv_1_tdb(0,:)/)\n",
    "data7(1,:) = (/bam_smg_1_tdb(0,:)/)\n",
    "data7(2,:) = (/bam_ncep_1_tdb(0,:)/)\n",
    "data7(3,:) = (/ob_tdb(0,:)/)\n",
    "data7(4,:) = (/gfs_1_tdb(0,:)/)"
   ]
  },
  {
   "cell_type": "code",
   "execution_count": 72,
   "metadata": {},
   "outputs": [],
   "source": [
    "data8= new((/5,dimsizes(ob_tdb(0,:))/),double)\n",
    "data8(0,:) = (/bam_smg_sv_1_tdb(0,:)/)\n",
    "data8(1,:) = (/bam_smg_1_tdb(0,:)/)\n",
    "data8(2,:) = (/bam_ncep_1_tdb(0,:)/)\n",
    "data8(3,:) = (/ob_tdb(0,:)/)\n",
    "data8(4,:) = (/gfs_1_tdb(0,:)/)"
   ]
  },
  {
   "cell_type": "code",
   "execution_count": 73,
   "metadata": {},
   "outputs": [],
   "source": [
    "data9= new((/5,dimsizes(ob_tdb(0,:))/),double)\n",
    "data9(0,:) = (/bam_smg_sv_1_tdb(0,:)/)\n",
    "data9(1,:) = (/bam_smg_1_tdb(0,:)/)\n",
    "data9(2,:) = (/bam_ncep_1_tdb(0,:)/)\n",
    "data9(3,:) = (/ob_tdb(0,:)/)\n",
    "data9(4,:) = (/gfs_1_tdb(0,:)/)"
   ]
  },
  {
   "cell_type": "code",
   "execution_count": 74,
   "metadata": {},
   "outputs": [],
   "source": [
    "data10= new((/5,dimsizes(ob_tdb(0,:))/),double)\n",
    "data10(0,:) = (/bam_smg_sv_1_tdb(0,:)/)\n",
    "data10(1,:) = (/bam_smg_1_tdb(0,:)/)\n",
    "data10(2,:) = (/bam_ncep_1_tdb(0,:)/)\n",
    "data10(3,:) = (/ob_tdb(0,:)/)\n",
    "data10(4,:) = (/gfs_1_tdb(0,:)/)"
   ]
  },
  {
   "cell_type": "code",
   "execution_count": 75,
   "metadata": {},
   "outputs": [],
   "source": [
    "data11= new((/5,dimsizes(ob_tdb(0,:))/),double)\n",
    "data11(0,:) = (/bam_smg_sv_1_tdb(0,:)/)\n",
    "data11(1,:) = (/bam_smg_1_tdb(0,:)/)\n",
    "data11(2,:) = (/bam_ncep_1_tdb(0,:)/)\n",
    "data11(3,:) = (/ob_tdb(0,:)/)\n",
    "data11(4,:) = (/gfs_1_tdb(0,:)/)"
   ]
  },
  {
   "cell_type": "code",
   "execution_count": 76,
   "metadata": {},
   "outputs": [],
   "source": [
    "data12= new((/5,dimsizes(ob_tdb(0,:))/),double)\n",
    "data12(0,:) = (/bam_smg_sv_1_tdb(0,:)/)\n",
    "data12(1,:) = (/bam_smg_1_tdb(0,:)/)\n",
    "data12(2,:) = (/bam_ncep_1_tdb(0,:)/)\n",
    "data12(3,:) = (/ob_tdb(0,:)/)\n",
    "data12(4,:) = (/gfs_1_tdb(0,:)/)"
   ]
  },
  {
   "cell_type": "code",
   "execution_count": 77,
   "metadata": {},
   "outputs": [],
   "source": [
    "data13= new((/5,dimsizes(ob_tdb(0,:))/),double)\n",
    "data13(0,:) = (/bam_smg_sv_1_tdb(0,:)/)\n",
    "data13(1,:) = (/bam_smg_1_tdb(0,:)/)\n",
    "data13(2,:) = (/bam_ncep_1_tdb(0,:)/)\n",
    "data13(3,:) = (/ob_tdb(0,:)/)\n",
    "data13(4,:) = (/gfs_1_tdb(0,:)/)"
   ]
  },
  {
   "cell_type": "code",
   "execution_count": 78,
   "metadata": {},
   "outputs": [],
   "source": [
    "data14= new((/5,dimsizes(ob_tdb(0,:))/),double)\n",
    "data14(0,:) = (/bam_smg_sv_1_tdb(0,:)/)\n",
    "data14(1,:) = (/bam_smg_1_tdb(0,:)/)\n",
    "data14(2,:) = (/bam_ncep_1_tdb(0,:)/)\n",
    "data14(3,:) = (/ob_tdb(0,:)/)\n",
    "data14(4,:) = (/gfs_1_tdb(0,:)/)"
   ]
  },
  {
   "cell_type": "code",
   "execution_count": 79,
   "metadata": {},
   "outputs": [],
   "source": [
    "data15= new((/5,dimsizes(ob_tdb(0,:))/),double)\n",
    "data15(0,:) = (/bam_smg_sv_1_tdb(0,:)/)\n",
    "data15(1,:) = (/bam_smg_1_tdb(0,:)/)\n",
    "data15(2,:) = (/bam_ncep_1_tdb(0,:)/)\n",
    "data15(3,:) = (/ob_tdb(0,:)/)\n",
    "data15(4,:) = (/gfs_1_tdb(0,:)/)"
   ]
  },
  {
   "cell_type": "code",
   "execution_count": 80,
   "metadata": {},
   "outputs": [],
   "source": [
    "data16= new((/5,dimsizes(ob_tdb(0,:))/),double)\n",
    "data16(0,:) = (/bam_smg_sv_1_tdb(0,:)/)\n",
    "data16(1,:) = (/bam_smg_1_tdb(0,:)/)\n",
    "data16(2,:) = (/bam_ncep_1_tdb(0,:)/)\n",
    "data16(3,:) = (/ob_tdb(0,:)/)\n",
    "data16(4,:) = (/gfs_1_tdb(0,:)/)"
   ]
  },
  {
   "cell_type": "code",
   "execution_count": 81,
   "metadata": {},
   "outputs": [],
   "source": [
    "data17= new((/5,dimsizes(ob_tdb(0,:))/),double)\n",
    "data17(0,:) = (/bam_smg_sv_1_tdb(0,:)/)\n",
    "data17(1,:) = (/bam_smg_1_tdb(0,:)/)\n",
    "data17(2,:) = (/bam_ncep_1_tdb(0,:)/)\n",
    "data17(3,:) = (/ob_tdb(0,:)/)\n",
    "data17(4,:) = (/gfs_1_tdb(0,:)/)"
   ]
  },
  {
   "cell_type": "code",
   "execution_count": 82,
   "metadata": {},
   "outputs": [],
   "source": [
    "data18= new((/5,dimsizes(ob_tdb(0,:))/),double)\n",
    "data18(0,:) = (/bam_smg_sv_1_tdb(0,:)/)\n",
    "data18(1,:) = (/bam_smg_1_tdb(0,:)/)\n",
    "data18(2,:) = (/bam_ncep_1_tdb(0,:)/)\n",
    "data18(3,:) = (/ob_tdb(0,:)/)\n",
    "data18(4,:) = (/gfs_1_tdb(0,:)/)"
   ]
  },
  {
   "cell_type": "code",
   "execution_count": 83,
   "metadata": {},
   "outputs": [],
   "source": [
    "data19= new((/5,dimsizes(ob_tdb(0,:))/),double)\n",
    "data19(0,:) = (/bam_smg_sv_1_tdb(0,:)/)\n",
    "data19(1,:) = (/bam_smg_1_tdb(0,:)/)\n",
    "data19(2,:) = (/bam_ncep_1_tdb(0,:)/)\n",
    "data19(3,:) = (/ob_tdb(0,:)/)\n",
    "data19(4,:) = (/gfs_1_tdb(0,:)/)"
   ]
  },
  {
   "cell_type": "code",
   "execution_count": 84,
   "metadata": {},
   "outputs": [],
   "source": [
    "data20= new((/5,dimsizes(ob_tdb(0,:))/),double)\n",
    "data20(0,:) = (/bam_smg_sv_1_tdb(0,:)/)\n",
    "data20(1,:) = (/bam_smg_1_tdb(0,:)/)\n",
    "data20(2,:) = (/bam_ncep_1_tdb(0,:)/)\n",
    "data20(3,:) = (/ob_tdb(0,:)/)\n",
    "data20(4,:) = (/gfs_1_tdb(0,:)/)"
   ]
  },
  {
   "cell_type": "code",
   "execution_count": 85,
   "metadata": {},
   "outputs": [],
   "source": [
    "data21= new((/5,dimsizes(ob_tdb(0,:))/),double)\n",
    "data21(0,:) = (/bam_smg_sv_1_tdb(0,:)/)\n",
    "data21(1,:) = (/bam_smg_1_tdb(0,:)/)\n",
    "data21(2,:) = (/bam_ncep_1_tdb(0,:)/)\n",
    "data21(3,:) = (/ob_tdb(0,:)/)\n",
    "data21(4,:) = (/gfs_1_tdb(0,:)/)"
   ]
  },
  {
   "cell_type": "markdown",
   "metadata": {},
   "source": [
    "### Trecho de teste \n",
    "\n",
    "Estou testando um jeito de salvar os **data** em uma grande matriz, assim evitando a repetição de código feito anteriomente. Porém, como foi dito na **obs** acima, a criação de grandes matrizes pode levar o usuário ao erro.\n",
    "\n",
    "```\n",
    ";p=1\n",
    ";ar=0\n",
    "\n",
    ";reg_nm=(/\"bam_smg_1\",\"bam_ncep_1\",\"ob\",\"gfs_1\"/)\n",
    ";reg_nn=(/\"data1\",\"data2\",\"data3\",\"data4\"/)\n",
    ";reg_nnn=(/\"data1(0,:)\",\"data2(1,:)\",\"data3(2,:)\",\"data4(3,:)\"/)\n",
    "\n",
    ";dims=getfilevardims(data1)\n",
    ";print(reg_nn(0))\n",
    "\n",
    ";do ar=0,1\n",
    ";    do i=0,3\n",
    ";        print(ar)\n",
    ";        print(reg_nm(i))\n",
    ";    end do\n",
    ";end do\n",
    "\n",
    ";reg_nn(0)= new( (/6,25/),float)\n",
    ";reg_nnn(0) = (/bam_smg_1(0,:)/)\n",
    ";reg_nnn(1) = (/bam_ncep_1(0,:)/)\n",
    ";reg_nnn(2) = (/ob(0,:)/)\n",
    ";reg_nnn(3) = (/gfs_1(0,:)/)\n",
    "\n",
    ";data7= new( (/6,25/),float)\n",
    ";data7(0,:) = (/bam_smg_1(0,:)/)\n",
    ";data7(1,:) = (/bam_ncep_1(0,:)/)\n",
    ";data7(2,:) = (/ob(0,:)/)\n",
    ";data7(3,:) = (/gfs_1(0,:)/)\n",
    "```"
   ]
  },
  {
   "cell_type": "markdown",
   "metadata": {},
   "source": [
    "## Gerar figura da seria temporal com as médias\n",
    "\n",
    "O nome do arquivo foi adicionado na variável **file_name**;\n",
    "\n",
    "```\n",
    "file_name = \"teste8\"\n",
    "```\n",
    "\n",
    "a extensão do arquivo colocamos na variável **extensao_file** - optei pela extensão no formato *ps* pelo grau de qualidade da imagem que é gerado.\n",
    "\n",
    "```\n",
    "extensao_file = \"ps\"\n",
    "```\n",
    "\n",
    "Tais variáveis serão utilizados no\n",
    "```\n",
    "wks = gsn_open_wks( extensao_file, file_name )\n",
    "```\n"
   ]
  },
  {
   "cell_type": "code",
   "execution_count": 86,
   "metadata": {},
   "outputs": [],
   "source": [
    "file_name = \"teste8\""
   ]
  },
  {
   "cell_type": "code",
   "execution_count": 87,
   "metadata": {},
   "outputs": [],
   "source": [
    "extensao_file = \"ps\""
   ]
  },
  {
   "cell_type": "code",
   "execution_count": 88,
   "metadata": {},
   "outputs": [],
   "source": [
    "wks = gsn_open_wks( extensao_file, file_name )\n",
    "\n",
    "plot_L = new(21,graphic)"
   ]
  },
  {
   "cell_type": "markdown",
   "metadata": {},
   "source": [
    "### Configuração da figura\n",
    "\n",
    "No trecho abaixo é definido o range do eixo *x* que é extraido da variável **tm** - é retirado o **time** da variável **n_ncep_1**.\n",
    "\n",
    "```\n",
    "op@trXMinF                   =tm(0)\n",
    "op@trXMaxF                   =tm(24) \n",
    "```\n",
    "**obs.:** Se a variável **tm** possuir 90 dias - 3 meses de previsão - colocaremos **tm(89)**. \n",
    "\n",
    "Para definirmos o range do eixo y, utilizaremos as seguintes funções:\n",
    "```\n",
    "op@trYMinF                   = 0\n",
    "op@trYMaxF                   = 25 \n",
    "```\n",
    "\n",
    "\n",
    "Na função *xyDashPatterns* é definido a estilo da linha que será gerado no gráfico. É necessário acrescentar o número corredo de *xyDashPatterns* de acordo com o que foi definido nos **data**, senão aparecerá uma mensagem de erro.\n",
    "```\n",
    "op@xyDashPatterns            = (/0,1,0,0/) \n",
    "```\n",
    "\n",
    "Para definir a expessura das linhas, modificaremos no *xyLineThicknessF*\n",
    "```\n",
    "op@xyLineThicknessF          = 0.5\n",
    "```"
   ]
  },
  {
   "cell_type": "code",
   "execution_count": 89,
   "metadata": {},
   "outputs": [],
   "source": [
    "  op                           = True\n",
    "  op@trXMinF                   =tm(0)\n",
    "  op@trXMaxF                   =tm(24) \n",
    "  op@trYMinF                   = 0\n",
    "  op@trYMaxF                   = 25 \n",
    "  op@gsnDraw                   = False\n",
    "  op@gsnFrame                  = False\n",
    "  op@xyDashPatterns            = (/0,0,1,0,0/) \n",
    "  op@xyMarkLineMode            = \"Lines\"                    \n",
    "  op@xyLineThicknessF          = 0.5"
   ]
  },
  {
   "cell_type": "markdown",
   "metadata": {},
   "source": [
    "Na função *xyLineColors* é acrescentado as cores das linhas de cada **data** definido.\n",
    "```\n",
    "op@xyLineColors              = (/\"orange\",\"purple\",\"black\",\"forestgreen\"/)\n",
    "\n",
    "```"
   ]
  },
  {
   "cell_type": "code",
   "execution_count": 90,
   "metadata": {},
   "outputs": [],
   "source": [
    "op@xyLineColors              = (/\"Tomato\",\"orange\",\"purple\",\"black\",\"forestgreen\"/)"
   ]
  },
  {
   "cell_type": "code",
   "execution_count": 91,
   "metadata": {},
   "outputs": [],
   "source": [
    "  op@tmXBMajorThicknessF       = 0.8\n",
    "  op@tmYLMajorThicknessF       = 0.8\n",
    "  op@tmXBLabelConstantSpacingF = 1.5\n",
    "  op@tmXBMajorLengthF          = 0.0001\n",
    "  op@tmYRMinorOn               = False                                      ; Turn off left minor tickmarks\n",
    "  op@tmXTOn                    = False                                      ; Turn off top tickmarks\n",
    "  op@tmYROn                    = False                                      ; Turn off top tickmarks\n",
    "  op@tmXBMinorOn               = True    \n",
    "  op@tmYRBorderOn              = True                                       ; turn off right axis\n",
    "  op@tmXBMajorOutwardLengthF   = 0.009\n",
    "  op@tmXBMajorLengthF          = 0.004\n",
    "  op@tmBorderThicknessF        = 0.5\n",
    "  op@tmXTBorderOn              = True                                       ; turn off right axis\n",
    "  op@tmXBBorderOn              = True                                       ; turn off right axis\n",
    "  op@tmXBMode                  = \"Explicit\" \n",
    "  op@tmXBLabelFontHeightF      = 0.0125\n",
    "  op@tmXBLabelStride           = 1"
   ]
  },
  {
   "cell_type": "markdown",
   "metadata": {},
   "source": [
    "- definição do angulo que será os labels"
   ]
  },
  {
   "cell_type": "code",
   "execution_count": 92,
   "metadata": {},
   "outputs": [],
   "source": [
    "op@tmXBLabelAngleF           = 45          ; change label angle"
   ]
  },
  {
   "cell_type": "markdown",
   "metadata": {},
   "source": [
    "- quantidade de labels de acordo com o que consta na variável **tm**"
   ]
  },
  {
   "cell_type": "code",
   "execution_count": 93,
   "metadata": {},
   "outputs": [],
   "source": [
    "op@tmXBValues                = tm(0:24) ; tm(0:89) "
   ]
  },
  {
   "cell_type": "markdown",
   "metadata": {},
   "source": [
    "- Tabela de labels feito manualmente, com os espaçamentos necessário."
   ]
  },
  {
   "cell_type": "code",
   "execution_count": 94,
   "metadata": {},
   "outputs": [],
   "source": [
    "op@tmXBLabels                = (/\"5\",\" \",\" \",\" \",\"10\",\" \",\" \",\" \",\" \",\"15\",\" \",\" \",\" \",\" \",\"20\" \\\n",
    "                                  ,\" \",\" \",\" \",\" \",\"\",\" \",\" \",\" \",\" \",\"25\",\" \",\" \",\" \",\" \",\"30\",\" \" \\\n",
    "                                  , \" \",\" \",\" \",\"35\",\" \",\" \",\" \",\" \",\"40\",\" \",\" \",\" \",\" \",\"45\",\" \" \\\n",
    "                                  ,\" \",\" \",\" \",\"50\",\" \",\" \",\" \",\" \",\"55\",\" \",\" \",\" \",\" \",\"60\",\" \",\" \" \\\n",
    "                                  ,\" \",\" \",\"65\",\" \",\" \",\" \",\" \",\"70\",\" \",\" \",\" \",\" \",\"75\",\" \",\" \",\" \" \\\n",
    "                                  ,\" \",\"80\",\" \",\" \",\" \",\" \",\"85\",\" \",\" \",\" \",\" \",\"90\",\" \",\" \"/)"
   ]
  },
  {
   "cell_type": "code",
   "execution_count": 95,
   "metadata": {},
   "outputs": [],
   "source": [
    "  op@tmXBLabelJust             = \"BottomRight\"\n",
    "  op@vpWidthF                  = 0.8                                       ; Set width and height of plot.\n",
    "  op@vpHeightF                 = 0.4"
   ]
  },
  {
   "cell_type": "markdown",
   "metadata": {},
   "source": [
    "- Definição do posicionamento das *LegendLabels*"
   ]
  },
  {
   "cell_type": "code",
   "execution_count": 96,
   "metadata": {},
   "outputs": [],
   "source": [
    "op@lgItemOrder               = (/4,3,2,1,0/)  "
   ]
  },
  {
   "cell_type": "markdown",
   "metadata": {},
   "source": [
    "- adicionando a legenda"
   ]
  },
  {
   "cell_type": "code",
   "execution_count": 97,
   "metadata": {},
   "outputs": [],
   "source": [
    "  op@pmLegendDisplayMode       = \"Always\"              ; turn on legend\n",
    "  op@pmLegendSide              = \"Top\"                 ; Change location of\n",
    "  op@pmLegendParallelPosF      = .80;                  ; move units right\n",
    "  op@pmLegendOrthogonalPosF    = -.33                  ; more neg = down\n",
    "  op@pmLegendWidthF            = 0.08                   ; Change width and\n",
    "  op@pmLegendHeightF           = 0.13                  ; height of legend.\n",
    "  op@lgLabelFontHeightF        = .018                  ; change font height\n",
    "  op@lgPerimOn                 = False                 ; no box around\n",
    "  op@lgLabelFont               = \"helvetica-bold\""
   ]
  },
  {
   "cell_type": "markdown",
   "metadata": {},
   "source": [
    "- Etapa para acrescentar a Legenda"
   ]
  },
  {
   "cell_type": "code",
   "execution_count": 98,
   "metadata": {},
   "outputs": [],
   "source": [
    "op@xyExplicitLegendLabels    =(/\"BAM-DAS-v2.1.0\",\"BAM-DAS-v2.0.0\", \"BAM\",\"IMERG\",\"GFS\"/)"
   ]
  },
  {
   "cell_type": "code",
   "execution_count": 99,
   "metadata": {},
   "outputs": [],
   "source": [
    ";delete(op)"
   ]
  },
  {
   "cell_type": "markdown",
   "metadata": {},
   "source": [
    "### Plots \n",
    "\n",
    "Criaremos o *plot* de cada **data** gerado anteriormente.\n",
    "\n",
    "Se observarmos, cada *plot* possuí um índice que corresponde o posicionamento dessa plotagem no painel que será gerado no **NCL**.\n",
    "\n",
    "```\n",
    "plot_L(<índice>)=gsn_csm_xy(wks,tm,<data>,op)\n",
    "```\n",
    "**obs.:** Talvez tenha um meio de criar um looping nesses plots, porém no momento ainda não possuo esse conhecimento.\n"
   ]
  },
  {
   "cell_type": "markdown",
   "metadata": {},
   "source": [
    "#### Plot - AREA - La Plata - INICIO"
   ]
  },
  {
   "cell_type": "code",
   "execution_count": 100,
   "metadata": {},
   "outputs": [],
   "source": [
    "op@pmLegendDisplayMode    = \"Always\"              \n",
    "op@tiYAxisString             = \"Precipitation (mm/day)\"\n",
    "plot_L(0)=gsn_csm_xy(wks,tm,data7,op)"
   ]
  },
  {
   "cell_type": "code",
   "execution_count": 101,
   "metadata": {},
   "outputs": [],
   "source": [
    "delete(op@tiYAxisString)"
   ]
  },
  {
   "cell_type": "code",
   "execution_count": 102,
   "metadata": {},
   "outputs": [],
   "source": [
    "op@tiYAxisString          = \" \"\n",
    "op@pmLegendDisplayMode    = \"Always\"              \n",
    "plot_L(1)=gsn_csm_xy(wks,tm,data14,op)"
   ]
  },
  {
   "cell_type": "code",
   "execution_count": 103,
   "metadata": {},
   "outputs": [],
   "source": [
    "delete(op@tiYAxisString)"
   ]
  },
  {
   "cell_type": "code",
   "execution_count": 104,
   "metadata": {},
   "outputs": [],
   "source": [
    "op@tiYAxisString          = \" \"\n",
    "op@pmLegendDisplayMode    = \"Always\"              \n",
    "plot_L(2)=gsn_csm_xy(wks,tm,data21,op)"
   ]
  },
  {
   "cell_type": "markdown",
   "metadata": {},
   "source": [
    "#### plot - AREA - La Plata - FIM "
   ]
  },
  {
   "cell_type": "markdown",
   "metadata": {},
   "source": [
    "#### plot - AREA - Sudeste - INICIO"
   ]
  },
  {
   "cell_type": "code",
   "execution_count": 105,
   "metadata": {},
   "outputs": [],
   "source": [
    "op@pmLegendDisplayMode    = \"Always\"              \n",
    "op@tiYAxisString          = \"Precipitation (mm/day)\"\n",
    "plot_L(3)=gsn_csm_xy(wks,tm,data6,op)"
   ]
  },
  {
   "cell_type": "code",
   "execution_count": 106,
   "metadata": {},
   "outputs": [],
   "source": [
    "delete(op@tiYAxisString)"
   ]
  },
  {
   "cell_type": "code",
   "execution_count": 107,
   "metadata": {},
   "outputs": [],
   "source": [
    "op@tiYAxisString          = \" \"\n",
    "plot_L(4)=gsn_csm_xy(wks,tm,data13,op)"
   ]
  },
  {
   "cell_type": "code",
   "execution_count": 108,
   "metadata": {},
   "outputs": [],
   "source": [
    "delete(op@tiYAxisString)"
   ]
  },
  {
   "cell_type": "code",
   "execution_count": 109,
   "metadata": {},
   "outputs": [],
   "source": [
    "op@tiYAxisString          = \" \"\n",
    "op@pmLegendDisplayMode    = \"Always\"             \n",
    "plot_L(5)=gsn_csm_xy(wks,tm,data20,op)"
   ]
  },
  {
   "cell_type": "markdown",
   "metadata": {},
   "source": [
    "#### Plot - AREA - Sudeste - FIM"
   ]
  },
  {
   "cell_type": "markdown",
   "metadata": {},
   "source": [
    "#### Plot - AREA - Nova area Sudeste - INICIO"
   ]
  },
  {
   "cell_type": "code",
   "execution_count": 110,
   "metadata": {},
   "outputs": [],
   "source": [
    "op@tiYAxisString          = \"Precipitation (mm/day)\"\n",
    "plot_L(6)=gsn_csm_xy(wks,tm,data5,op)"
   ]
  },
  {
   "cell_type": "code",
   "execution_count": 111,
   "metadata": {},
   "outputs": [],
   "source": [
    "delete(op@tiYAxisString)"
   ]
  },
  {
   "cell_type": "code",
   "execution_count": 112,
   "metadata": {},
   "outputs": [],
   "source": [
    "op@tiYAxisString          = \" \"\n",
    "plot_L(7)=gsn_csm_xy(wks,tm,data12,op)"
   ]
  },
  {
   "cell_type": "code",
   "execution_count": 113,
   "metadata": {},
   "outputs": [],
   "source": [
    "delete(op@tiYAxisString)"
   ]
  },
  {
   "cell_type": "code",
   "execution_count": 114,
   "metadata": {},
   "outputs": [],
   "source": [
    "op@tiYAxisString          = \" \"\n",
    "op@pmLegendDisplayMode    = \"Always\"              \n",
    "plot_L(8)=gsn_csm_xy(wks,tm,data19,op)"
   ]
  },
  {
   "cell_type": "markdown",
   "metadata": {},
   "source": [
    "#### Plot - AREA - Nova area Sudeste - FIM"
   ]
  },
  {
   "cell_type": "markdown",
   "metadata": {},
   "source": [
    "#### Plot - AREA - Centro Oeste - INICIO"
   ]
  },
  {
   "cell_type": "code",
   "execution_count": 115,
   "metadata": {},
   "outputs": [],
   "source": [
    "op@tiYAxisString          = \"Precipitation (mm/day)\"\n",
    "plot_L(9)=gsn_csm_xy(wks,tm,data4,op)"
   ]
  },
  {
   "cell_type": "code",
   "execution_count": 116,
   "metadata": {},
   "outputs": [],
   "source": [
    "delete(op@tiYAxisString)"
   ]
  },
  {
   "cell_type": "code",
   "execution_count": 117,
   "metadata": {},
   "outputs": [],
   "source": [
    "op@tiYAxisString          = \" \"\n",
    "plot_L(10)=gsn_csm_xy(wks,tm,data11,op)"
   ]
  },
  {
   "cell_type": "code",
   "execution_count": 118,
   "metadata": {},
   "outputs": [],
   "source": [
    "delete(op@tiYAxisString)"
   ]
  },
  {
   "cell_type": "code",
   "execution_count": 119,
   "metadata": {},
   "outputs": [],
   "source": [
    "op@tiYAxisString          = \" \"\n",
    "op@pmLegendDisplayMode    = \"Always\"              \n",
    "plot_L(11)=gsn_csm_xy(wks,tm,data18,op)"
   ]
  },
  {
   "cell_type": "markdown",
   "metadata": {},
   "source": [
    "#### Plot - AREA - Centro Oeste - FIM"
   ]
  },
  {
   "cell_type": "markdown",
   "metadata": {},
   "source": [
    "#### Plot - AREA - Nordeste - INICIO"
   ]
  },
  {
   "cell_type": "code",
   "execution_count": 120,
   "metadata": {},
   "outputs": [],
   "source": [
    "op@tiYAxisString          = \"Precipitation (mm/day)\"\n",
    "plot_L(12)=gsn_csm_xy(wks,tm,data3,op)"
   ]
  },
  {
   "cell_type": "code",
   "execution_count": 121,
   "metadata": {},
   "outputs": [],
   "source": [
    "delete(op@tiYAxisString)"
   ]
  },
  {
   "cell_type": "code",
   "execution_count": 122,
   "metadata": {},
   "outputs": [],
   "source": [
    "op@tiYAxisString          = \" \"\n",
    "plot_L(13)=gsn_csm_xy(wks,tm,data10,op)"
   ]
  },
  {
   "cell_type": "code",
   "execution_count": 123,
   "metadata": {},
   "outputs": [],
   "source": [
    "delete(op@tiYAxisString)"
   ]
  },
  {
   "cell_type": "code",
   "execution_count": 124,
   "metadata": {},
   "outputs": [],
   "source": [
    "op@tiYAxisString          = \" \"\n",
    "op@pmLegendDisplayMode    = \"Always\"              \n",
    "plot_L(14)=gsn_csm_xy(wks,tm,data17,op)"
   ]
  },
  {
   "cell_type": "markdown",
   "metadata": {},
   "source": [
    "#### Plot - AREA - Nordeste - FIM"
   ]
  },
  {
   "cell_type": "markdown",
   "metadata": {},
   "source": [
    "#### Plot - AREA - Amazonas (norte) - INICIO"
   ]
  },
  {
   "cell_type": "code",
   "execution_count": 125,
   "metadata": {},
   "outputs": [],
   "source": [
    "op@tiYAxisString          = \"Precipitation (mm/day)\"\n",
    "plot_L(15)=gsn_csm_xy(wks,tm,data2,op)"
   ]
  },
  {
   "cell_type": "code",
   "execution_count": 126,
   "metadata": {},
   "outputs": [],
   "source": [
    "delete(op@tiYAxisString)"
   ]
  },
  {
   "cell_type": "code",
   "execution_count": 127,
   "metadata": {},
   "outputs": [],
   "source": [
    "op@tiYAxisString          = \" \"\n",
    "plot_L(16)=gsn_csm_xy(wks,tm,data9,op)"
   ]
  },
  {
   "cell_type": "code",
   "execution_count": 128,
   "metadata": {},
   "outputs": [],
   "source": [
    "delete(op@tiYAxisString)"
   ]
  },
  {
   "cell_type": "code",
   "execution_count": 129,
   "metadata": {},
   "outputs": [],
   "source": [
    "op@tiYAxisString          = \" \"\n",
    "op@pmLegendDisplayMode    = \"Always\"              \n",
    "plot_L(17)=gsn_csm_xy(wks,tm,data16,op)"
   ]
  },
  {
   "cell_type": "markdown",
   "metadata": {},
   "source": [
    "#### Plot - AREA - Amazonas (Norte) - FIM"
   ]
  },
  {
   "cell_type": "markdown",
   "metadata": {},
   "source": [
    "#### Plot - AREA - america do sul - INICIO"
   ]
  },
  {
   "cell_type": "code",
   "execution_count": 130,
   "metadata": {},
   "outputs": [],
   "source": [
    "op@tiYAxisString          = \"Precipitation (mm/day)\"\n",
    "op@tiXAxisString          = \"Days (from May 2015)\"\n",
    "plot_L(18)=gsn_csm_xy(wks,tm,data1,op)"
   ]
  },
  {
   "cell_type": "code",
   "execution_count": 131,
   "metadata": {},
   "outputs": [],
   "source": [
    "delete(op@tiYAxisString)"
   ]
  },
  {
   "cell_type": "code",
   "execution_count": 132,
   "metadata": {},
   "outputs": [],
   "source": [
    "op@tiYAxisString          = \" \"\n",
    "plot_L(19)=gsn_csm_xy(wks,tm,data8,op)"
   ]
  },
  {
   "cell_type": "code",
   "execution_count": 133,
   "metadata": {},
   "outputs": [],
   "source": [
    "delete(op@tiYAxisString)"
   ]
  },
  {
   "cell_type": "code",
   "execution_count": 134,
   "metadata": {},
   "outputs": [],
   "source": [
    "op@tiYAxisString          = \" \"\n",
    "op@pmLegendDisplayMode    = \"Always\"              \n",
    "plot_L(20)=gsn_csm_xy(wks,tm,data15,op)"
   ]
  },
  {
   "cell_type": "markdown",
   "metadata": {},
   "source": [
    "************************************************\n",
    " Attach text to plot using plot coordinates.\n",
    "************************************************"
   ]
  },
  {
   "cell_type": "code",
   "execution_count": 135,
   "metadata": {},
   "outputs": [],
   "source": [
    "\n",
    "  txres1 = True                     ; text mods desired\n",
    "  txres1@txFontHeightF = 0.002\n",
    "  txres1@txPerimOn = False          ;True\n",
    "  txres1@txFont = \"helvetica-bold\"\n",
    "\n",
    "  h=(/\"24 h\"/)\n",
    "  ;>x=(/0.449/)\n",
    "  x=(/0.400/)\n",
    "  y=(/0.993/)\n",
    "\n",
    "  gsn_text_ndc(wks,h,x,y(:),txres1)\n",
    "\n",
    "  h=(/\"48 h\"/)\n",
    "  ;>x=(/0.533/)   \n",
    "  x=(/0.490/)   \n",
    "  y=(/0.993/)     \n",
    "\n",
    " gsn_text_ndc(wks,h,x,y(:),txres1)\n",
    "\n",
    "  h=(/\"72 h\"/)\n",
    "  ;>x=(/0.619/) \n",
    "  x=(/0.577/) \n",
    "  y=(/0.993/)\n",
    "\n",
    "\n",
    "  gsn_text_ndc(wks,h,x,y(:),txres1)\n",
    "\n",
    ";nome da estacao\n",
    "  h=(/\" \"/)\n",
    "  x=(/0.449/)\n",
    "  y=(/0.989/)\n",
    " gsn_text_ndc(wks,h,x,y(:),txres1)\n",
    "\n",
    "\n",
    " h=(/\" \"/)\n",
    " x=(/0.533/) \n",
    " y=(/0.989/)\n",
    " gsn_text_ndc(wks,h,x,y(:),txres1)\n",
    "\n",
    "\n",
    "  h=(/\" \"/)\n",
    "  x=(/0.619/) \n",
    "  y=(/0.989/)\n",
    "  gsn_text_ndc(wks,h,x,y(:),txres1)"
   ]
  },
  {
   "cell_type": "markdown",
   "metadata": {},
   "source": [
    "#### Plot - AREA - America do sul - FIM"
   ]
  },
  {
   "cell_type": "markdown",
   "metadata": {},
   "source": [
    "#### Create Panel\n",
    "\n",
    "Criação dos painéis com as áreas definidas no inicio.\n",
    "\n",
    "A função *amJust* é  ??????\n",
    "```\n",
    "resPanel@amJust = \"TopRight\"\n",
    "```\n",
    "\n",
    "A função *amParallelPosF* é para movimentar para o lado direito ou esquerdo\n",
    "```\n",
    "resPanel@amParallelPosF  = -0.05 \n",
    "```\n",
    "A função *amOrthogonalPosF* é para movimentar para cima ou para baixo\n",
    "```\n",
    "resPanel@amOrthogonalPosF = -0.49 \n",
    "```"
   ]
  },
  {
   "cell_type": "code",
   "execution_count": 136,
   "metadata": {},
   "outputs": [],
   "source": [
    "  resPanel                                  = True                 \n",
    "  resPanel@gsnFrame                         = True ;False\n",
    "  resPanel@gsnPanel                         = 0.5\n",
    "  resPanel@amJust                           = \"TopRight\" \n",
    "  resPanel@amParallelPosF                   = -0.05                \n",
    "  resPanel@amOrthogonalPosF                 = -0.49 \n",
    "  resPanel@gsnPanelFigureStringsFontHeightF = 0.002\n",
    "  resPanel@gsnPanelFigureStringsPerimOn     = False  \n",
    "  resPanel@gsnPanelFigureStrings            = (/\"a) La Plata (B1)        \", \"a') La Plata (B1)       \",\"a') La Plata (B1)         \", \\\n",
    "                                                \"b) Southeast (B2)       \", \"b') Southeast (B2)      \",\"b') Southeast (B2)        \", \\\n",
    "                                                \"b) Novo-Southeast (B6)  \", \"b') Novo-Southeast (B6) \",\"b') Novo-Southeast (B6)   \", \\\n",
    "                                                \"c) Central-West (B3)    \", \"c') Central-West (B3)   \",\"c') Central-West (B3)     \", \\\n",
    "                                                \"d) Northeast (B4)       \", \"d') Northeast (B4)      \",\"d') Northeast (B4)        \", \\\n",
    "                                                \"e) Amazon (B5)          \", \"e') Amazon (B5)         \", \"e') Amazon (B5)          \", \\\n",
    "                                                \"f) America do Sul       \", \"f')America do Sul       \", \"f')America do Sul        \"/)\n",
    "\n",
    "  resPanel@gsnPanelXWhiteSpacePercent = 0.0\n",
    "  resPanel@gsnPanelYWhiteSpacePercent = 1.5\n",
    "\n",
    "  "
   ]
  },
  {
   "cell_type": "markdown",
   "metadata": {},
   "source": [
    "- criação do painel"
   ]
  },
  {
   "cell_type": "code",
   "execution_count": 137,
   "metadata": {},
   "outputs": [],
   "source": [
    "gsn_panel(wks,plot_L,(/21,3/),resPanel)"
   ]
  },
  {
   "cell_type": "code",
   "execution_count": 138,
   "metadata": {},
   "outputs": [],
   "source": [
    "delete(wks)"
   ]
  },
  {
   "cell_type": "code",
   "execution_count": 139,
   "metadata": {},
   "outputs": [],
   "source": [
    "system(\"convert -trim -density 600 -rotate -360 teste8.ps teste8.png \")"
   ]
  },
  {
   "cell_type": "code",
   "execution_count": null,
   "metadata": {},
   "outputs": [],
   "source": []
  },
  {
   "cell_type": "markdown",
   "metadata": {},
   "source": [
    "**OBS.: UMA REGRA AINDA NÃO MUITO ENTENDIDA** - É NECESSÁRIO SIM DESSE TRECHO NESSA ETAPA.\n",
    "\n",
    "Nesse caso especifico que estamos utilizando o *jupyter notebook*, não teve necessidade de utilizar o:\n",
    "\n",
    "```\n",
    "delete(wks)\n",
    "```\n",
    "e também o \n",
    "\n",
    "```\n",
    "system(\"convert -trim -density 600 -rotate -360 teste8.ps teste8.png \")\n",
    "```"
   ]
  },
  {
   "cell_type": "markdown",
   "metadata": {},
   "source": [
    "- chamando o objeto criado no wks"
   ]
  },
  {
   "cell_type": "code",
   "execution_count": 140,
   "metadata": {},
   "outputs": [],
   "source": [
    ";frame(wks)"
   ]
  },
  {
   "cell_type": "code",
   "execution_count": 141,
   "metadata": {},
   "outputs": [],
   "source": [
    ";system(\"rm teste8* \")"
   ]
  },
  {
   "cell_type": "markdown",
   "metadata": {},
   "source": [
    "![serie](teste8.png)"
   ]
  },
  {
   "cell_type": "code",
   "execution_count": null,
   "metadata": {},
   "outputs": [],
   "source": [
    "\n"
   ]
  },
  {
   "cell_type": "code",
   "execution_count": null,
   "metadata": {},
   "outputs": [],
   "source": []
  },
  {
   "cell_type": "code",
   "execution_count": null,
   "metadata": {},
   "outputs": [],
   "source": []
  },
  {
   "cell_type": "markdown",
   "metadata": {},
   "source": [
    "### Desvio Padrão\n",
    "\n",
    "\n",
    "Teste para acumular todos os desvio padrão em apenas uma variável\n",
    "\n",
    "```\n",
    "j=0\n",
    "do i=0, j-1\n",
    "    tss(i)= new( (/6,1/), float)\n",
    "    print(i)\n",
    "end do\n",
    "```"
   ]
  },
  {
   "cell_type": "code",
   "execution_count": 142,
   "metadata": {},
   "outputs": [],
   "source": [
    "dev_ob = new( (/6,1/), float)\n",
    "i=0  \n",
    "do while(i.le.5) \n",
    "T_agg_ob = ob(i,:)\n",
    "  nni=1\n",
    "  do nn=0, nni-1\n",
    "    TT_desv_ob = dim_stddev_n_Wrap(T_agg_ob,0)\n",
    "    dev_ob(i,nn)=TT_desv_ob(nn)\n",
    "  end do\n",
    "i=i+1\n",
    "end do"
   ]
  },
  {
   "cell_type": "code",
   "execution_count": 143,
   "metadata": {},
   "outputs": [
    {
     "name": "stdout",
     "output_type": "stream",
     "text": [
      "Variable: dev_ob\n",
      "Type: float\n",
      "Total Size: 24 bytes\n",
      "            6 values\n",
      "Number of Dimensions: 2\n",
      "Dimensions and sizes:\t[6] x [1]\n",
      "Coordinates: \n",
      "Number Of Attributes: 9\n",
      "  average_op_ncl :\tdim_avg over dimension(s): latitude\n",
      "  long_name :\tPrecipitation\n",
      "  units :\tkg/m^2\n",
      "  short_name :\tPREC_surface\n",
      "  level :\tsurface\n",
      "  time :\t1432900800\n",
      "  missing_value :\t9.999e+20\n",
      "  stddev_op_ncl :\tdim_stddev_n function was applied\n",
      "  _FillValue :\t-9.99e+08\n",
      "(0,0)\t1.584955\n",
      "(1,0)\t4.861081\n",
      "(2,0)\t2.165916\n",
      "(3,0)\t4.180689\n",
      "(4,0)\t1.343913\n",
      "(5,0)\t3.302038"
     ]
    }
   ],
   "source": [
    "print(dev_ob)"
   ]
  },
  {
   "cell_type": "code",
   "execution_count": 144,
   "metadata": {},
   "outputs": [],
   "source": [
    "dev_gfs_1 = new( (/6,1/), float)\n",
    "i=0  \n",
    "do while(i.le.5) \n",
    "Tagg_gfs_1 = gfs_1(i,:)\n",
    "  nni=1\n",
    "  do nn=0, nni-1\n",
    "    TT_desv_gfs_1 = dim_stddev_n_Wrap(Tagg_gfs_1,0)\n",
    "    dev_gfs_1(i,nn)=TT_desv_gfs_1(nn)\n",
    "  end do\n",
    "i=i+1\n",
    "end do"
   ]
  },
  {
   "cell_type": "code",
   "execution_count": 145,
   "metadata": {},
   "outputs": [
    {
     "name": "stdout",
     "output_type": "stream",
     "text": [
      "Variable: dev_gfs_1\n",
      "Type: float\n",
      "Total Size: 24 bytes\n",
      "            6 values\n",
      "Number of Dimensions: 2\n",
      "Dimensions and sizes:\t[6] x [1]\n",
      "Coordinates: \n",
      "Number Of Attributes: 9\n",
      "  average_op_ncl :\tdim_avg over dimension(s): latitude\n",
      "  long_name :\tTotal Precipitation\n",
      "  units :\tkg/m^2\n",
      "  short_name :\tAPCP_surface\n",
      "  level :\tsurface\n",
      "  time :\t1432900800\n",
      "  missing_value :\t9.999e+20\n",
      "  stddev_op_ncl :\tdim_stddev_n function was applied\n",
      "  _FillValue :\t-9.99e+08\n",
      "(0,0)\t1.138253\n",
      "(1,0)\t3.420616\n",
      "(2,0)\t1.78448\n",
      "(3,0)\t2.638511\n",
      "(4,0)\t1.634127\n",
      "(5,0)\t2.369266"
     ]
    }
   ],
   "source": [
    "print(dev_gfs_1)"
   ]
  },
  {
   "cell_type": "code",
   "execution_count": 146,
   "metadata": {},
   "outputs": [],
   "source": [
    "dev_gfs_2 = new( (/6,1/), float)\n",
    "i=0  \n",
    "do while(i.le.5) \n",
    "Tagg_gfs_2 = gfs_2(i,:)\n",
    "  nni=1\n",
    "  do nn=0, nni-1\n",
    "    TT_desv_gfs_2 = dim_stddev_n_Wrap(Tagg_gfs_2,0)\n",
    "    dev_gfs_2(i,nn)=TT_desv_gfs_2(nn)\n",
    "  end do\n",
    "i=i+1\n",
    "end do"
   ]
  },
  {
   "cell_type": "code",
   "execution_count": 147,
   "metadata": {},
   "outputs": [
    {
     "name": "stdout",
     "output_type": "stream",
     "text": [
      "Variable: dev_gfs_2\n",
      "Type: float\n",
      "Total Size: 24 bytes\n",
      "            6 values\n",
      "Number of Dimensions: 2\n",
      "Dimensions and sizes:\t[6] x [1]\n",
      "Coordinates: \n",
      "Number Of Attributes: 9\n",
      "  average_op_ncl :\tdim_avg over dimension(s): latitude\n",
      "  long_name :\tTotal Precipitation\n",
      "  units :\tkg/m^2\n",
      "  short_name :\tAPCP_surface\n",
      "  level :\tsurface\n",
      "  time :\t1432900800\n",
      "  missing_value :\t9.999e+20\n",
      "  stddev_op_ncl :\tdim_stddev_n function was applied\n",
      "  _FillValue :\t-9.99e+08\n",
      "(0,0)\t1.165704\n",
      "(1,0)\t3.12196\n",
      "(2,0)\t1.498239\n",
      "(3,0)\t2.80731\n",
      "(4,0)\t1.333444\n",
      "(5,0)\t2.147786"
     ]
    }
   ],
   "source": [
    "print(dev_gfs_2)"
   ]
  },
  {
   "cell_type": "code",
   "execution_count": 148,
   "metadata": {},
   "outputs": [],
   "source": [
    "dev_gfs_3 = new( (/6,1/), float)\n",
    "i=0  \n",
    "do while(i.le.5) \n",
    "Tagg_gfs_3 = gfs_3(i,:)\n",
    "  nni=1\n",
    "  do nn=0, nni-1\n",
    "    TT_desv_gfs_3 = dim_stddev_n_Wrap(Tagg_gfs_3,0)\n",
    "    dev_gfs_3(i,nn)=TT_desv_gfs_3(nn)\n",
    "  end do\n",
    "i=i+1\n",
    "end do"
   ]
  },
  {
   "cell_type": "code",
   "execution_count": 149,
   "metadata": {},
   "outputs": [
    {
     "name": "stdout",
     "output_type": "stream",
     "text": [
      "Variable: dev_gfs_3\n",
      "Type: float\n",
      "Total Size: 24 bytes\n",
      "            6 values\n",
      "Number of Dimensions: 2\n",
      "Dimensions and sizes:\t[6] x [1]\n",
      "Coordinates: \n",
      "Number Of Attributes: 9\n",
      "  average_op_ncl :\tdim_avg over dimension(s): latitude\n",
      "  long_name :\tTotal Precipitation\n",
      "  units :\tkg/m^2\n",
      "  short_name :\tAPCP_surface\n",
      "  level :\tsurface\n",
      "  time :\t1432900800\n",
      "  missing_value :\t9.999e+20\n",
      "  stddev_op_ncl :\tdim_stddev_n function was applied\n",
      "  _FillValue :\t-9.99e+08\n",
      "(0,0)\t1.094692\n",
      "(1,0)\t3.254305\n",
      "(2,0)\t1.423625\n",
      "(3,0)\t3.053823\n",
      "(4,0)\t1.474517\n",
      "(5,0)\t2.325778"
     ]
    }
   ],
   "source": [
    "print(dev_gfs_3)"
   ]
  },
  {
   "cell_type": "code",
   "execution_count": 150,
   "metadata": {},
   "outputs": [],
   "source": [
    "dev_bam_ncep_1 = new( (/6,1/), float)\n",
    "i=0  \n",
    "do while(i.le.5) \n",
    "Tagg_bam_ncep_1 = bam_ncep_1(i,:)\n",
    "  nni=1\n",
    "  do nn=0, nni-1\n",
    "    TT_desv_bam_ncep_1 = dim_stddev_n_Wrap(Tagg_bam_ncep_1,0)\n",
    "    dev_bam_ncep_1(i,nn)=TT_desv_bam_ncep_1(nn)\n",
    "  end do\n",
    "i=i+1\n",
    "end do"
   ]
  },
  {
   "cell_type": "code",
   "execution_count": 151,
   "metadata": {},
   "outputs": [
    {
     "name": "stdout",
     "output_type": "stream",
     "text": [
      "Variable: dev_bam_ncep_1\n",
      "Type: float\n",
      "Total Size: 24 bytes\n",
      "            6 values\n",
      "Number of Dimensions: 2\n",
      "Dimensions and sizes:\t[6] x [1]\n",
      "Coordinates: \n",
      "Number Of Attributes: 7\n",
      "  average_op_ncl :\tdim_avg over dimension(s): lat\n",
      "  long_name :\t** sfc    TOTAL PRECIPITATION                     (KG/M2/DAY       )\n",
      "  grid_type :\tgaussian\n",
      "  time :\t 576\n",
      "  missing_value :\t-9.99e+08\n",
      "  stddev_op_ncl :\tdim_stddev_n function was applied\n",
      "  _FillValue :\t-9.99e+08\n",
      "(0,0)\t0.8965419\n",
      "(1,0)\t3.159167\n",
      "(2,0)\t1.108408\n",
      "(3,0)\t2.444778\n",
      "(4,0)\t1.06421\n",
      "(5,0)\t1.5668"
     ]
    }
   ],
   "source": [
    "print(dev_bam_ncep_1)"
   ]
  },
  {
   "cell_type": "code",
   "execution_count": 152,
   "metadata": {},
   "outputs": [],
   "source": [
    "dev_bam_ncep_2 = new( (/6,1/), float)\n",
    "i=0  \n",
    "do while(i.le.5) \n",
    "Tagg_bam_ncep_2 = bam_ncep_2(i,:)\n",
    "  nni=1\n",
    "  do nn=0, nni-1\n",
    "    TT_desv_bam_ncep_2 = dim_stddev_n_Wrap(Tagg_bam_ncep_2,0)\n",
    "    dev_bam_ncep_2(i,nn)=TT_desv_bam_ncep_2(nn)\n",
    "  end do\n",
    "i=i+1\n",
    "end do"
   ]
  },
  {
   "cell_type": "code",
   "execution_count": 153,
   "metadata": {},
   "outputs": [
    {
     "name": "stdout",
     "output_type": "stream",
     "text": [
      "Variable: dev_bam_ncep_2\n",
      "Type: float\n",
      "Total Size: 24 bytes\n",
      "            6 values\n",
      "Number of Dimensions: 2\n",
      "Dimensions and sizes:\t[6] x [1]\n",
      "Coordinates: \n",
      "Number Of Attributes: 7\n",
      "  average_op_ncl :\tdim_avg over dimension(s): lat\n",
      "  long_name :\t** sfc    TOTAL PRECIPITATION                     (KG/M2/DAY       )\n",
      "  grid_type :\tgaussian\n",
      "  time :\t 576\n",
      "  missing_value :\t-9.99e+08\n",
      "  stddev_op_ncl :\tdim_stddev_n function was applied\n",
      "  _FillValue :\t-9.99e+08\n",
      "(0,0)\t0.8038288\n",
      "(1,0)\t3.294895\n",
      "(2,0)\t1.087948\n",
      "(3,0)\t2.167338\n",
      "(4,0)\t1.323582\n",
      "(5,0)\t1.658577"
     ]
    }
   ],
   "source": [
    "print(dev_bam_ncep_2)"
   ]
  },
  {
   "cell_type": "code",
   "execution_count": 154,
   "metadata": {},
   "outputs": [],
   "source": [
    "dev_bam_ncep_3 = new( (/6,1/), float)\n",
    "i=0  \n",
    "do while(i.le.5) \n",
    "Tagg_bam_ncep_3 = bam_ncep_3(i,:)\n",
    "  nni=1\n",
    "  do nn=0, nni-1\n",
    "    TT_desv_bam_ncep_3 = dim_stddev_n_Wrap(Tagg_bam_ncep_3,0)\n",
    "    dev_bam_ncep_3(i,nn)=TT_desv_bam_ncep_3(nn)\n",
    "  end do\n",
    "i=i+1\n",
    "end do"
   ]
  },
  {
   "cell_type": "code",
   "execution_count": 155,
   "metadata": {},
   "outputs": [
    {
     "name": "stdout",
     "output_type": "stream",
     "text": [
      "Variable: dev_bam_ncep_3\n",
      "Type: float\n",
      "Total Size: 24 bytes\n",
      "            6 values\n",
      "Number of Dimensions: 2\n",
      "Dimensions and sizes:\t[6] x [1]\n",
      "Coordinates: \n",
      "Number Of Attributes: 7\n",
      "  average_op_ncl :\tdim_avg over dimension(s): lat\n",
      "  long_name :\t** sfc    TOTAL PRECIPITATION                     (KG/M2/DAY       )\n",
      "  grid_type :\tgaussian\n",
      "  time :\t 576\n",
      "  missing_value :\t-9.99e+08\n",
      "  stddev_op_ncl :\tdim_stddev_n function was applied\n",
      "  _FillValue :\t-9.99e+08\n",
      "(0,0)\t0.7607056\n",
      "(1,0)\t3.276763\n",
      "(2,0)\t1.213552\n",
      "(3,0)\t1.773384\n",
      "(4,0)\t1.877626\n",
      "(5,0)\t1.90606"
     ]
    }
   ],
   "source": [
    "print(dev_bam_ncep_3)"
   ]
  },
  {
   "cell_type": "code",
   "execution_count": 156,
   "metadata": {},
   "outputs": [
    {
     "name": "stdout",
     "output_type": "stream",
     "text": [
      "Variable: dev_bam_smg_1\n",
      "Type: float\n",
      "Total Size: 24 bytes\n",
      "            6 values\n",
      "Number of Dimensions: 2\n",
      "Dimensions and sizes:\t[6] x [1]\n",
      "Coordinates: \n",
      "Number Of Attributes: 7\n",
      "  average_op_ncl :\tdim_avg over dimension(s): lat\n",
      "  long_name :\t** sfc    TOTAL PRECIPITATION                     (KG/M2/DAY       )\n",
      "  grid_type :\tgaussian\n",
      "  time :\t 576\n",
      "  missing_value :\t9.999e+20\n",
      "  stddev_op_ncl :\tdim_stddev_n function was applied\n",
      "  _FillValue :\t-9.99e+08\n",
      "(0,0)\t0.9509515\n",
      "(1,0)\t3.685835\n",
      "(2,0)\t1.044453\n",
      "(3,0)\t1.619956\n",
      "(4,0)\t1.14681\n",
      "(5,0)\t2.211393"
     ]
    }
   ],
   "source": [
    "dev_bam_smg_1 = new( (/6,1/), float)\n",
    "i=0  \n",
    "do while(i.le.5) \n",
    "Tagg_bam_smg_1 = bam_smg_1(i,:)\n",
    "  nni=1\n",
    "  do nn=0, nni-1\n",
    "    TT_desv_bam_smg_1 = dim_stddev_n_Wrap(Tagg_bam_smg_1,0)\n",
    "    dev_bam_smg_1(i,nn)=TT_desv_bam_smg_1(nn)\n",
    "  end do\n",
    "i=i+1\n",
    "end do\n",
    "print(dev_bam_smg_1)"
   ]
  },
  {
   "cell_type": "code",
   "execution_count": 157,
   "metadata": {},
   "outputs": [
    {
     "name": "stdout",
     "output_type": "stream",
     "text": [
      "Variable: dev_bam_smg_2\n",
      "Type: float\n",
      "Total Size: 24 bytes\n",
      "            6 values\n",
      "Number of Dimensions: 2\n",
      "Dimensions and sizes:\t[6] x [1]\n",
      "Coordinates: \n",
      "Number Of Attributes: 7\n",
      "  average_op_ncl :\tdim_avg over dimension(s): lat\n",
      "  long_name :\t** sfc    TOTAL PRECIPITATION                     (KG/M2/DAY       )\n",
      "  grid_type :\tgaussian\n",
      "  time :\t 576\n",
      "  missing_value :\t-9.99e+08\n",
      "  stddev_op_ncl :\tdim_stddev_n function was applied\n",
      "  _FillValue :\t-9.99e+08\n",
      "(0,0)\t0.8346323\n",
      "(1,0)\t3.460233\n",
      "(2,0)\t1.195003\n",
      "(3,0)\t1.677817\n",
      "(4,0)\t1.500049\n",
      "(5,0)\t1.940688"
     ]
    }
   ],
   "source": [
    "dev_bam_smg_2 = new( (/6,1/), float)\n",
    "i=0  \n",
    "do while(i.le.5) \n",
    "Tagg_bam_smg_2 = bam_smg_2(i,:)\n",
    "  nni=1\n",
    "  do nn=0, nni-1\n",
    "    TT_desv_bam_smg_2 = dim_stddev_n_Wrap(Tagg_bam_smg_2,0)\n",
    "    dev_bam_smg_2(i,nn)=TT_desv_bam_smg_2(nn)\n",
    "  end do\n",
    "i=i+1\n",
    "end do\n",
    "print(dev_bam_smg_2)"
   ]
  },
  {
   "cell_type": "code",
   "execution_count": 158,
   "metadata": {},
   "outputs": [
    {
     "name": "stdout",
     "output_type": "stream",
     "text": [
      "Variable: dev_bam_smg_3\n",
      "Type: float\n",
      "Total Size: 24 bytes\n",
      "            6 values\n",
      "Number of Dimensions: 2\n",
      "Dimensions and sizes:\t[6] x [1]\n",
      "Coordinates: \n",
      "Number Of Attributes: 7\n",
      "  average_op_ncl :\tdim_avg over dimension(s): lat\n",
      "  long_name :\t** sfc    TOTAL PRECIPITATION                     (KG/M2/DAY       )\n",
      "  grid_type :\tgaussian\n",
      "  time :\t 576\n",
      "  missing_value :\t-9.99e+08\n",
      "  stddev_op_ncl :\tdim_stddev_n function was applied\n",
      "  _FillValue :\t-9.99e+08\n",
      "(0,0)\t0.8620529\n",
      "(1,0)\t3.0775\n",
      "(2,0)\t1.006553\n",
      "(3,0)\t1.512811\n",
      "(4,0)\t2.144141\n",
      "(5,0)\t2.436782"
     ]
    }
   ],
   "source": [
    "dev_bam_smg_3 = new( (/6,1/), float)\n",
    "i=0  \n",
    "do while(i.le.5) \n",
    "Tagg_bam_smg_3 = bam_smg_3(i,:)\n",
    "  nni=1\n",
    "  do nn=0, nni-1\n",
    "    TT_desv_bam_smg_3 = dim_stddev_n_Wrap(Tagg_bam_smg_3,0)\n",
    "    dev_bam_smg_3(i,nn)=TT_desv_bam_smg_3(nn)\n",
    "  end do\n",
    "i=i+1\n",
    "end do\n",
    "print(dev_bam_smg_3)"
   ]
  },
  {
   "cell_type": "code",
   "execution_count": 159,
   "metadata": {},
   "outputs": [
    {
     "name": "stdout",
     "output_type": "stream",
     "text": [
      "Variable: dev_bam_smg_sv_1\n",
      "Type: float\n",
      "Total Size: 24 bytes\n",
      "            6 values\n",
      "Number of Dimensions: 2\n",
      "Dimensions and sizes:\t[6] x [1]\n",
      "Coordinates: \n",
      "Number Of Attributes: 7\n",
      "  average_op_ncl :\tdim_avg over dimension(s): lat\n",
      "  long_name :\t** sfc    TOTAL PRECIPITATION                     (KG/M2/DAY       )\n",
      "  grid_type :\tgaussian\n",
      "  time :\t 576\n",
      "  missing_value :\t9.999e+20\n",
      "  stddev_op_ncl :\tdim_stddev_n function was applied\n",
      "  _FillValue :\t-9.99e+08\n",
      "(0,0)\t0.9955407\n",
      "(1,0)\t3.825769\n",
      "(2,0)\t1.14476\n",
      "(3,0)\t1.756821\n",
      "(4,0)\t1.230407\n",
      "(5,0)\t2.409953"
     ]
    }
   ],
   "source": [
    "dev_bam_smg_sv_1 = new( (/6,1/), float)\n",
    "i=0  \n",
    "do while(i.le.5) \n",
    "Tagg_bam_smg_sv_1 = bam_smg_sv_1(i,:)\n",
    "  nni=1\n",
    "  do nn=0, nni-1\n",
    "    TT_desv_bam_smg_sv_1 = dim_stddev_n_Wrap(Tagg_bam_smg_sv_1,0)\n",
    "    dev_bam_smg_sv_1(i,nn)=TT_desv_bam_smg_sv_1(nn)\n",
    "  end do\n",
    "i=i+1\n",
    "end do\n",
    "print(dev_bam_smg_sv_1)"
   ]
  },
  {
   "cell_type": "code",
   "execution_count": 160,
   "metadata": {},
   "outputs": [
    {
     "name": "stdout",
     "output_type": "stream",
     "text": [
      "Variable: dev_bam_smg_sv_2\n",
      "Type: float\n",
      "Total Size: 24 bytes\n",
      "            6 values\n",
      "Number of Dimensions: 2\n",
      "Dimensions and sizes:\t[6] x [1]\n",
      "Coordinates: \n",
      "Number Of Attributes: 7\n",
      "  average_op_ncl :\tdim_avg over dimension(s): lat\n",
      "  long_name :\t** sfc    TOTAL PRECIPITATION                     (KG/M2/DAY       )\n",
      "  grid_type :\tgaussian\n",
      "  time :\t 576\n",
      "  missing_value :\t9.999e+20\n",
      "  stddev_op_ncl :\tdim_stddev_n function was applied\n",
      "  _FillValue :\t-9.99e+08\n",
      "(0,0)\t1.098081\n",
      "(1,0)\t3.887362\n",
      "(2,0)\t1.144692\n",
      "(3,0)\t2.390896\n",
      "(4,0)\t1.200086\n",
      "(5,0)\t2.392555"
     ]
    }
   ],
   "source": [
    "dev_bam_smg_sv_2 = new( (/6,1/), float)\n",
    "i=0  \n",
    "do while(i.le.5) \n",
    "Tagg_bam_smg_sv_2 = bam_smg_sv_2(i,:)\n",
    "  nni=1\n",
    "  do nn=0, nni-1\n",
    "    TT_desv_bam_smg_sv_2 = dim_stddev_n_Wrap(Tagg_bam_smg_sv_2,0)\n",
    "    dev_bam_smg_sv_2(i,nn)=TT_desv_bam_smg_sv_2(nn)\n",
    "  end do\n",
    "i=i+1\n",
    "end do\n",
    "print(dev_bam_smg_sv_2)"
   ]
  },
  {
   "cell_type": "code",
   "execution_count": 161,
   "metadata": {},
   "outputs": [
    {
     "name": "stdout",
     "output_type": "stream",
     "text": [
      "Variable: dev_bam_smg_sv_3\n",
      "Type: float\n",
      "Total Size: 24 bytes\n",
      "            6 values\n",
      "Number of Dimensions: 2\n",
      "Dimensions and sizes:\t[6] x [1]\n",
      "Coordinates: \n",
      "Number Of Attributes: 7\n",
      "  average_op_ncl :\tdim_avg over dimension(s): lat\n",
      "  long_name :\t** sfc    TOTAL PRECIPITATION                     (KG/M2/DAY       )\n",
      "  grid_type :\tgaussian\n",
      "  time :\t 576\n",
      "  missing_value :\t9.999e+20\n",
      "  stddev_op_ncl :\tdim_stddev_n function was applied\n",
      "  _FillValue :\t-9.99e+08\n",
      "(0,0)\t1.149698\n",
      "(1,0)\t4.090137\n",
      "(2,0)\t1.110367\n",
      "(3,0)\t2.604052\n",
      "(4,0)\t1.786446\n",
      "(5,0)\t2.386578"
     ]
    }
   ],
   "source": [
    "dev_bam_smg_sv_3 = new( (/6,1/), float)\n",
    "i=0  \n",
    "do while(i.le.5) \n",
    "Tagg_bam_smg_sv_3 = bam_smg_sv_3(i,:)\n",
    "  nni=1\n",
    "  do nn=0, nni-1\n",
    "    TT_desv_bam_smg_sv_3 = dim_stddev_n_Wrap(Tagg_bam_smg_sv_3,0)\n",
    "    dev_bam_smg_sv_3(i,nn)=TT_desv_bam_smg_sv_3(nn)\n",
    "  end do\n",
    "i=i+1\n",
    "end do\n",
    "print(dev_bam_smg_sv_3)"
   ]
  },
  {
   "cell_type": "code",
   "execution_count": null,
   "metadata": {},
   "outputs": [],
   "source": []
  },
  {
   "cell_type": "markdown",
   "metadata": {},
   "source": [
    "## Normalizando"
   ]
  },
  {
   "cell_type": "code",
   "execution_count": 162,
   "metadata": {},
   "outputs": [
    {
     "name": "stdout",
     "output_type": "stream",
     "text": [
      "fatal:Variable (normalizando_dev_gfs_1) is undefined\n",
      "fatal:[\"Execute.c\":8638]:Execute: Error occurred at or near line 899"
     ]
    }
   ],
   "source": [
    "delete(normalizando_dev_gfs_1)"
   ]
  },
  {
   "cell_type": "code",
   "execution_count": 163,
   "metadata": {},
   "outputs": [
    {
     "name": "stdout",
     "output_type": "stream",
     "text": [
      "Variable: normalizando_dev_gfs_1\n",
      "Type: float\n",
      "Total Size: 24 bytes\n",
      "            6 values\n",
      "Number of Dimensions: 2\n",
      "Dimensions and sizes:\t[6] x [1]\n",
      "Coordinates: \n",
      "Number Of Attributes: 1\n",
      "  _FillValue :\t-9.99e+08\n",
      "(0,0)\t0.718161\n",
      "(1,0)\t0.7036739\n",
      "(2,0)\t0.8238919\n",
      "(3,0)\t0.6311188\n",
      "(4,0)\t1.215946\n",
      "(5,0)\t0.7175162"
     ]
    }
   ],
   "source": [
    "normalizando_dev_gfs_1 = new( (/6,1/), float)\n",
    "\n",
    "nn=0\n",
    "j=0\n",
    "\n",
    "i=0\n",
    "k=0\n",
    "g=0\n",
    "do while(i.le.5) .and. (k.le.5) .and. (g.le.5)\n",
    "   nm_normalizando_dev_gfs_1=((/dev_gfs_1(i,nn)/) / (/dev_ob(k,nn)/))\n",
    "   normalizando_dev_gfs_1(g,nn)=nm_normalizando_dev_gfs_1(j)\n",
    "i=i+1\n",
    "k=k+1\n",
    "g=g+1\n",
    "end do\n",
    "print(normalizando_dev_gfs_1)"
   ]
  },
  {
   "cell_type": "code",
   "execution_count": 164,
   "metadata": {},
   "outputs": [
    {
     "name": "stdout",
     "output_type": "stream",
     "text": [
      "fatal:Variable (normalizando_dev_gfs_2) is undefined\n",
      "fatal:[\"Execute.c\":8638]:Execute: Error occurred at or near line 916"
     ]
    }
   ],
   "source": [
    "delete(normalizando_dev_gfs_2)"
   ]
  },
  {
   "cell_type": "code",
   "execution_count": 165,
   "metadata": {},
   "outputs": [
    {
     "name": "stdout",
     "output_type": "stream",
     "text": [
      "Variable: normalizando_dev_gfs_2\n",
      "Type: float\n",
      "Total Size: 24 bytes\n",
      "            6 values\n",
      "Number of Dimensions: 2\n",
      "Dimensions and sizes:\t[6] x [1]\n",
      "Coordinates: \n",
      "Number Of Attributes: 1\n",
      "  _FillValue :\t-9.99e+08\n",
      "(0,0)\t0.7354807\n",
      "(1,0)\t0.6422358\n",
      "(2,0)\t0.6917347\n",
      "(3,0)\t0.6714946\n",
      "(4,0)\t0.99221\n",
      "(5,0)\t0.6504427"
     ]
    }
   ],
   "source": [
    "normalizando_dev_gfs_2 = new( (/6,1/), float)\n",
    "\n",
    "nn=0\n",
    "j=0\n",
    "\n",
    "i=0\n",
    "k=0\n",
    "g=0\n",
    "do while(i.le.5) .and. (k.le.5) .and. (g.le.5)\n",
    "   nm_normalizando_dev_gfs_2=((/dev_gfs_2(i,nn)/) / (/dev_ob(k,nn)/))\n",
    "   normalizando_dev_gfs_2(g,nn)=nm_normalizando_dev_gfs_2(j)\n",
    "i=i+1\n",
    "k=k+1\n",
    "g=g+1\n",
    "end do\n",
    "print(normalizando_dev_gfs_2)"
   ]
  },
  {
   "cell_type": "code",
   "execution_count": 166,
   "metadata": {},
   "outputs": [
    {
     "name": "stdout",
     "output_type": "stream",
     "text": [
      "fatal:Variable (normalizando_dev_gfs_3) is undefined\n",
      "fatal:[\"Execute.c\":8638]:Execute: Error occurred at or near line 933"
     ]
    }
   ],
   "source": [
    "delete(normalizando_dev_gfs_3)"
   ]
  },
  {
   "cell_type": "code",
   "execution_count": 167,
   "metadata": {},
   "outputs": [
    {
     "name": "stdout",
     "output_type": "stream",
     "text": [
      "Variable: normalizando_dev_gfs_3\n",
      "Type: float\n",
      "Total Size: 24 bytes\n",
      "            6 values\n",
      "Number of Dimensions: 2\n",
      "Dimensions and sizes:\t[6] x [1]\n",
      "Coordinates: \n",
      "Number Of Attributes: 1\n",
      "  _FillValue :\t-9.99e+08\n",
      "(0,0)\t0.6906772\n",
      "(1,0)\t0.6694612\n",
      "(2,0)\t0.6572856\n",
      "(3,0)\t0.7304594\n",
      "(4,0)\t1.097181\n",
      "(5,0)\t0.7043463"
     ]
    }
   ],
   "source": [
    "normalizando_dev_gfs_3 = new( (/6,1/), float)\n",
    "\n",
    "nn=0\n",
    "j=0\n",
    "\n",
    "i=0\n",
    "k=0\n",
    "g=0\n",
    "do while(i.le.5) .and. (k.le.5) .and. (g.le.5)\n",
    "   nm_normalizando_dev_gfs_3=((/dev_gfs_3(i,nn)/) / (/dev_ob(k,nn)/))\n",
    "   normalizando_dev_gfs_3(g,nn)=nm_normalizando_dev_gfs_3(j)\n",
    "i=i+1\n",
    "k=k+1\n",
    "g=g+1\n",
    "end do\n",
    "print(normalizando_dev_gfs_3)"
   ]
  },
  {
   "cell_type": "code",
   "execution_count": 168,
   "metadata": {},
   "outputs": [
    {
     "name": "stdout",
     "output_type": "stream",
     "text": [
      "fatal:Variable (normalizando_dev_bam_ncep_1) is undefined\n",
      "fatal:[\"Execute.c\":8638]:Execute: Error occurred at or near line 950"
     ]
    }
   ],
   "source": [
    "delete(normalizando_dev_bam_ncep_1)"
   ]
  },
  {
   "cell_type": "code",
   "execution_count": 169,
   "metadata": {},
   "outputs": [
    {
     "name": "stdout",
     "output_type": "stream",
     "text": [
      "Variable: normalizando_dev_bam_ncep_1\n",
      "Type: float\n",
      "Total Size: 24 bytes\n",
      "            6 values\n",
      "Number of Dimensions: 2\n",
      "Dimensions and sizes:\t[6] x [1]\n",
      "Coordinates: \n",
      "Number Of Attributes: 1\n",
      "  _FillValue :\t-9.99e+08\n",
      "(0,0)\t0.5656576\n",
      "(1,0)\t0.6498899\n",
      "(2,0)\t0.5117505\n",
      "(3,0)\t0.5847788\n",
      "(4,0)\t0.791874\n",
      "(5,0)\t0.4744948"
     ]
    }
   ],
   "source": [
    "normalizando_dev_bam_ncep_1 = new( (/6,1/), float)\n",
    "\n",
    "nn=0\n",
    "j=0\n",
    "\n",
    "i=0\n",
    "k=0\n",
    "g=0\n",
    "do while(i.le.5) .and. (k.le.5) .and. (g.le.5)\n",
    "   nm_normalizando_dev_bam_ncep_1=((/dev_bam_ncep_1(i,nn)/) / (/dev_ob(k,nn)/))\n",
    "   normalizando_dev_bam_ncep_1(g,nn)=nm_normalizando_dev_bam_ncep_1(j)\n",
    "i=i+1\n",
    "k=k+1\n",
    "g=g+1\n",
    "end do\n",
    "print(normalizando_dev_bam_ncep_1)"
   ]
  },
  {
   "cell_type": "code",
   "execution_count": 170,
   "metadata": {},
   "outputs": [
    {
     "name": "stdout",
     "output_type": "stream",
     "text": [
      "fatal:Variable (normalizando_dev_bam_ncep_2) is undefined\n",
      "fatal:[\"Execute.c\":8638]:Execute: Error occurred at or near line 967"
     ]
    }
   ],
   "source": [
    "delete(normalizando_dev_bam_ncep_2)"
   ]
  },
  {
   "cell_type": "code",
   "execution_count": 171,
   "metadata": {},
   "outputs": [
    {
     "name": "stdout",
     "output_type": "stream",
     "text": [
      "Variable: normalizando_dev_bam_ncep_2\n",
      "Type: float\n",
      "Total Size: 24 bytes\n",
      "            6 values\n",
      "Number of Dimensions: 2\n",
      "Dimensions and sizes:\t[6] x [1]\n",
      "Coordinates: \n",
      "Number Of Attributes: 1\n",
      "  _FillValue :\t-9.99e+08\n",
      "(0,0)\t0.5071619\n",
      "(1,0)\t0.6778113\n",
      "(2,0)\t0.5023038\n",
      "(3,0)\t0.5184164\n",
      "(4,0)\t0.9848713\n",
      "(5,0)\t0.5022891"
     ]
    }
   ],
   "source": [
    "normalizando_dev_bam_ncep_2 = new( (/6,1/), float)\n",
    "\n",
    "nn=0\n",
    "j=0\n",
    "\n",
    "i=0\n",
    "k=0\n",
    "g=0\n",
    "do while(i.le.5) .and. (k.le.5) .and. (g.le.5)\n",
    "   nm_normalizando_dev_bam_ncep_2=((/dev_bam_ncep_2(i,nn)/) / (/dev_ob(k,nn)/))\n",
    "   normalizando_dev_bam_ncep_2(g,nn)=nm_normalizando_dev_bam_ncep_2(j)\n",
    "i=i+1\n",
    "k=k+1\n",
    "g=g+1\n",
    "end do\n",
    "print(normalizando_dev_bam_ncep_2)"
   ]
  },
  {
   "cell_type": "code",
   "execution_count": 172,
   "metadata": {},
   "outputs": [
    {
     "name": "stdout",
     "output_type": "stream",
     "text": [
      "fatal:Variable (normalizando_dev_bam_ncep_3) is undefined\n",
      "fatal:[\"Execute.c\":8638]:Execute: Error occurred at or near line 984"
     ]
    }
   ],
   "source": [
    "delete(normalizando_dev_bam_ncep_3)"
   ]
  },
  {
   "cell_type": "code",
   "execution_count": 173,
   "metadata": {},
   "outputs": [
    {
     "name": "stdout",
     "output_type": "stream",
     "text": [
      "Variable: normalizando_dev_bam_ncep_3\n",
      "Type: float\n",
      "Total Size: 24 bytes\n",
      "            6 values\n",
      "Number of Dimensions: 2\n",
      "Dimensions and sizes:\t[6] x [1]\n",
      "Coordinates: \n",
      "Number Of Attributes: 1\n",
      "  _FillValue :\t-9.99e+08\n",
      "(0,0)\t0.479954\n",
      "(1,0)\t0.6740811\n",
      "(2,0)\t0.560295\n",
      "(3,0)\t0.4241847\n",
      "(4,0)\t1.397133\n",
      "(5,0)\t0.5772375"
     ]
    }
   ],
   "source": [
    "normalizando_dev_bam_ncep_3 = new( (/6,1/), float)\n",
    "\n",
    "nn=0\n",
    "j=0\n",
    "\n",
    "i=0\n",
    "k=0\n",
    "g=0\n",
    "do while(i.le.5) .and. (k.le.5) .and. (g.le.5)\n",
    "   nm_normalizando_dev_bam_ncep_3=((/dev_bam_ncep_3(i,nn)/) / (/dev_ob(k,nn)/))\n",
    "   normalizando_dev_bam_ncep_3(g,nn)=nm_normalizando_dev_bam_ncep_3(j)\n",
    "i=i+1\n",
    "k=k+1\n",
    "g=g+1\n",
    "end do\n",
    "print(normalizando_dev_bam_ncep_3)"
   ]
  },
  {
   "cell_type": "code",
   "execution_count": 174,
   "metadata": {},
   "outputs": [
    {
     "name": "stdout",
     "output_type": "stream",
     "text": [
      "fatal:Variable (normalizando_dev_bam_smg_1) is undefined\n",
      "fatal:[\"Execute.c\":8638]:Execute: Error occurred at or near line 1001"
     ]
    }
   ],
   "source": [
    "delete(normalizando_dev_bam_smg_1)"
   ]
  },
  {
   "cell_type": "code",
   "execution_count": 175,
   "metadata": {},
   "outputs": [
    {
     "name": "stdout",
     "output_type": "stream",
     "text": [
      "Variable: normalizando_dev_bam_smg_1\n",
      "Type: float\n",
      "Total Size: 24 bytes\n",
      "            6 values\n",
      "Number of Dimensions: 2\n",
      "Dimensions and sizes:\t[6] x [1]\n",
      "Coordinates: \n",
      "Number Of Attributes: 1\n",
      "  _FillValue :\t-9.99e+08\n",
      "(0,0)\t0.5999863\n",
      "(1,0)\t0.7582337\n",
      "(2,0)\t0.4822224\n",
      "(3,0)\t0.3874855\n",
      "(4,0)\t0.8533362\n",
      "(5,0)\t0.6697055"
     ]
    }
   ],
   "source": [
    "normalizando_dev_bam_smg_1 = new( (/6,1/), float)\n",
    "\n",
    "nn=0\n",
    "j=0\n",
    "\n",
    "i=0\n",
    "k=0\n",
    "g=0\n",
    "do while(i.le.5) .and. (k.le.5) .and. (g.le.5)\n",
    "   nm_normalizando_dev_bam_smg_1=((/dev_bam_smg_1(i,nn)/) / (/dev_ob(k,nn)/))\n",
    "   normalizando_dev_bam_smg_1(g,nn)=nm_normalizando_dev_bam_smg_1(j)\n",
    "i=i+1\n",
    "k=k+1\n",
    "g=g+1\n",
    "end do\n",
    "print(normalizando_dev_bam_smg_1)"
   ]
  },
  {
   "cell_type": "code",
   "execution_count": 176,
   "metadata": {},
   "outputs": [
    {
     "name": "stdout",
     "output_type": "stream",
     "text": [
      "fatal:Variable (normalizando_dev_bam_smg_2) is undefined\n",
      "fatal:[\"Execute.c\":8638]:Execute: Error occurred at or near line 1018"
     ]
    }
   ],
   "source": [
    "delete(normalizando_dev_bam_smg_2)"
   ]
  },
  {
   "cell_type": "code",
   "execution_count": 177,
   "metadata": {},
   "outputs": [
    {
     "name": "stdout",
     "output_type": "stream",
     "text": [
      "Variable: normalizando_dev_bam_smg_2\n",
      "Type: float\n",
      "Total Size: 24 bytes\n",
      "            6 values\n",
      "Number of Dimensions: 2\n",
      "Dimensions and sizes:\t[6] x [1]\n",
      "Coordinates: \n",
      "Number Of Attributes: 1\n",
      "  _FillValue :\t-9.99e+08\n",
      "(0,0)\t0.5265968\n",
      "(1,0)\t0.7118238\n",
      "(2,0)\t0.5517309\n",
      "(3,0)\t0.4013255\n",
      "(4,0)\t1.11618\n",
      "(5,0)\t0.5877243"
     ]
    }
   ],
   "source": [
    "normalizando_dev_bam_smg_2 = new( (/6,1/), float)\n",
    "\n",
    "nn=0\n",
    "j=0\n",
    "\n",
    "i=0\n",
    "k=0\n",
    "g=0\n",
    "do while(i.le.5) .and. (k.le.5) .and. (g.le.5)\n",
    "   nm_normalizando_dev_bam_smg_2=((/dev_bam_smg_2(i,nn)/) / (/dev_ob(k,nn)/))\n",
    "   normalizando_dev_bam_smg_2(g,nn)=nm_normalizando_dev_bam_smg_2(j)\n",
    "i=i+1\n",
    "k=k+1\n",
    "g=g+1\n",
    "end do\n",
    "print(normalizando_dev_bam_smg_2)"
   ]
  },
  {
   "cell_type": "code",
   "execution_count": 178,
   "metadata": {},
   "outputs": [
    {
     "name": "stdout",
     "output_type": "stream",
     "text": [
      "fatal:Variable (normalizando_dev_bam_smg_3) is undefined\n",
      "fatal:[\"Execute.c\":8638]:Execute: Error occurred at or near line 1035"
     ]
    }
   ],
   "source": [
    "delete(normalizando_dev_bam_smg_3)"
   ]
  },
  {
   "cell_type": "code",
   "execution_count": 179,
   "metadata": {},
   "outputs": [
    {
     "name": "stdout",
     "output_type": "stream",
     "text": [
      "Variable: normalizando_dev_bam_smg_3\n",
      "Type: float\n",
      "Total Size: 24 bytes\n",
      "            6 values\n",
      "Number of Dimensions: 2\n",
      "Dimensions and sizes:\t[6] x [1]\n",
      "Coordinates: \n",
      "Number Of Attributes: 1\n",
      "  _FillValue :\t-9.99e+08\n",
      "(0,0)\t0.5438973\n",
      "(1,0)\t0.6330897\n",
      "(2,0)\t0.4647239\n",
      "(3,0)\t0.3618568\n",
      "(4,0)\t1.595446\n",
      "(5,0)\t0.7379631"
     ]
    }
   ],
   "source": [
    "normalizando_dev_bam_smg_3 = new( (/6,1/), float)\n",
    "\n",
    "nn=0\n",
    "j=0\n",
    "\n",
    "i=0\n",
    "k=0\n",
    "g=0\n",
    "do while(i.le.5) .and. (k.le.5) .and. (g.le.5)\n",
    "   nm_normalizando_dev_bam_smg_3=((/dev_bam_smg_3(i,nn)/) / (/dev_ob(k,nn)/))\n",
    "   normalizando_dev_bam_smg_3(g,nn)=nm_normalizando_dev_bam_smg_3(j)\n",
    "i=i+1\n",
    "k=k+1\n",
    "g=g+1\n",
    "end do\n",
    "print(normalizando_dev_bam_smg_3)"
   ]
  },
  {
   "cell_type": "code",
   "execution_count": 180,
   "metadata": {},
   "outputs": [
    {
     "name": "stdout",
     "output_type": "stream",
     "text": [
      "fatal:Variable (normalizando_dev_bam_smg_sv_1) is undefined\n",
      "fatal:[\"Execute.c\":8638]:Execute: Error occurred at or near line 1052"
     ]
    }
   ],
   "source": [
    "delete(normalizando_dev_bam_smg_sv_1)"
   ]
  },
  {
   "cell_type": "code",
   "execution_count": 181,
   "metadata": {},
   "outputs": [
    {
     "name": "stdout",
     "output_type": "stream",
     "text": [
      "Variable: normalizando_dev_bam_smg_sv_1\n",
      "Type: float\n",
      "Total Size: 24 bytes\n",
      "            6 values\n",
      "Number of Dimensions: 2\n",
      "Dimensions and sizes:\t[6] x [1]\n",
      "Coordinates: \n",
      "Number Of Attributes: 1\n",
      "  _FillValue :\t-9.99e+08\n",
      "(0,0)\t0.6281192\n",
      "(1,0)\t0.7870202\n",
      "(2,0)\t0.5285342\n",
      "(3,0)\t0.4202229\n",
      "(4,0)\t0.91554\n",
      "(5,0)\t0.729838"
     ]
    }
   ],
   "source": [
    "normalizando_dev_bam_smg_sv_1 = new( (/6,1/), float)\n",
    "\n",
    "nn=0\n",
    "j=0\n",
    "\n",
    "i=0\n",
    "k=0\n",
    "g=0\n",
    "do while(i.le.5) .and. (k.le.5) .and. (g.le.5)\n",
    "   nm_normalizando_dev_bam_smg_sv_1=((/dev_bam_smg_sv_1(i,nn)/) / (/dev_ob(k,nn)/))\n",
    "   normalizando_dev_bam_smg_sv_1(g,nn)=nm_normalizando_dev_bam_smg_sv_1(j)\n",
    "i=i+1\n",
    "k=k+1\n",
    "g=g+1\n",
    "end do\n",
    "print(normalizando_dev_bam_smg_sv_1)"
   ]
  },
  {
   "cell_type": "code",
   "execution_count": 182,
   "metadata": {},
   "outputs": [
    {
     "name": "stdout",
     "output_type": "stream",
     "text": [
      "fatal:Variable (normalizando_dev_bam_smg_sv_2) is undefined\n",
      "fatal:[\"Execute.c\":8638]:Execute: Error occurred at or near line 1069"
     ]
    }
   ],
   "source": [
    "delete(normalizando_dev_bam_smg_sv_2)"
   ]
  },
  {
   "cell_type": "code",
   "execution_count": 183,
   "metadata": {},
   "outputs": [
    {
     "name": "stdout",
     "output_type": "stream",
     "text": [
      "Variable: normalizando_dev_bam_smg_sv_2\n",
      "Type: float\n",
      "Total Size: 24 bytes\n",
      "            6 values\n",
      "Number of Dimensions: 2\n",
      "Dimensions and sizes:\t[6] x [1]\n",
      "Coordinates: \n",
      "Number Of Attributes: 1\n",
      "  _FillValue :\t-9.99e+08\n",
      "(0,0)\t0.6928153\n",
      "(1,0)\t0.7996908\n",
      "(2,0)\t0.5285023\n",
      "(3,0)\t0.5718904\n",
      "(4,0)\t0.8929789\n",
      "(5,0)\t0.7245692"
     ]
    }
   ],
   "source": [
    "normalizando_dev_bam_smg_sv_2 = new( (/6,1/), float)\n",
    "\n",
    "nn=0\n",
    "j=0\n",
    "\n",
    "i=0\n",
    "k=0\n",
    "g=0\n",
    "do while(i.le.5) .and. (k.le.5) .and. (g.le.5)\n",
    "   nm_normalizando_dev_bam_smg_sv_2=((/dev_bam_smg_sv_2(i,nn)/) / (/dev_ob(k,nn)/))\n",
    "   normalizando_dev_bam_smg_sv_2(g,nn)=nm_normalizando_dev_bam_smg_sv_2(j)\n",
    "i=i+1\n",
    "k=k+1\n",
    "g=g+1\n",
    "end do\n",
    "print(normalizando_dev_bam_smg_sv_2)"
   ]
  },
  {
   "cell_type": "code",
   "execution_count": 184,
   "metadata": {},
   "outputs": [
    {
     "name": "stdout",
     "output_type": "stream",
     "text": [
      "fatal:Variable (normalizando_dev_bam_smg_sv_3) is undefined\n",
      "fatal:[\"Execute.c\":8638]:Execute: Error occurred at or near line 1086"
     ]
    }
   ],
   "source": [
    "delete(normalizando_dev_bam_smg_sv_3)"
   ]
  },
  {
   "cell_type": "code",
   "execution_count": 185,
   "metadata": {},
   "outputs": [
    {
     "name": "stdout",
     "output_type": "stream",
     "text": [
      "Variable: normalizando_dev_bam_smg_sv_3\n",
      "Type: float\n",
      "Total Size: 24 bytes\n",
      "            6 values\n",
      "Number of Dimensions: 2\n",
      "Dimensions and sizes:\t[6] x [1]\n",
      "Coordinates: \n",
      "Number Of Attributes: 1\n",
      "  _FillValue :\t-9.99e+08\n",
      "(0,0)\t0.7253819\n",
      "(1,0)\t0.8414049\n",
      "(2,0)\t0.5126545\n",
      "(3,0)\t0.6228763\n",
      "(4,0)\t1.329287\n",
      "(5,0)\t0.7227591"
     ]
    }
   ],
   "source": [
    "normalizando_dev_bam_smg_sv_3 = new( (/6,1/), float)\n",
    "\n",
    "nn=0\n",
    "j=0\n",
    "\n",
    "i=0\n",
    "k=0\n",
    "g=0\n",
    "do while(i.le.5) .and. (k.le.5) .and. (g.le.5)\n",
    "   nm_normalizando_dev_bam_smg_sv_3=((/dev_bam_smg_sv_3(i,nn)/) / (/dev_ob(k,nn)/))\n",
    "   normalizando_dev_bam_smg_sv_3(g,nn)=nm_normalizando_dev_bam_smg_sv_3(j)\n",
    "i=i+1\n",
    "k=k+1\n",
    "g=g+1\n",
    "end do\n",
    "print(normalizando_dev_bam_smg_sv_3)"
   ]
  },
  {
   "cell_type": "markdown",
   "metadata": {},
   "source": [
    "### Transforma um array multidimensional em unidimensional"
   ]
  },
  {
   "cell_type": "code",
   "execution_count": 189,
   "metadata": {},
   "outputs": [],
   "source": [
    "t1 = gfs_1(0,:)\n",
    "t2 = ob(0,:)"
   ]
  },
  {
   "cell_type": "code",
   "execution_count": null,
   "metadata": {},
   "outputs": [],
   "source": []
  },
  {
   "cell_type": "code",
   "execution_count": 190,
   "metadata": {},
   "outputs": [],
   "source": [
    " MRmse1l = dim_rmsd_n_Wrap(t1,t2,0)"
   ]
  },
  {
   "cell_type": "code",
   "execution_count": 191,
   "metadata": {},
   "outputs": [
    {
     "name": "stdout",
     "output_type": "stream",
     "text": [
      "Variable: MRmse1l\n",
      "Type: float\n",
      "Total Size: 4 bytes\n",
      "            1 values\n",
      "Number of Dimensions: 1\n",
      "Dimensions and sizes:\t[1]\n",
      "Coordinates: \n",
      "Number Of Attributes: 9\n",
      "  _FillValue :\t-9.99e+08\n",
      "  time :\t1432900800\n",
      "  average_op_ncl :\tdim_avg over dimension(s): latitude\n",
      "  long_name :\tRMSD: Total Precipitation\n",
      "  units :\tkg/m^2\n",
      "  short_name :\tAPCP_surface\n",
      "  level :\tsurface\n",
      "  missing_value :\t9.999e+20\n",
      "  rmsd_op_ncl :\tdim_rmsd_n function was applied\n",
      "(0)\t0.7581265"
     ]
    }
   ],
   "source": [
    "print(MRmse1l)"
   ]
  },
  {
   "cell_type": "code",
   "execution_count": null,
   "metadata": {},
   "outputs": [],
   "source": []
  },
  {
   "cell_type": "code",
   "execution_count": null,
   "metadata": {},
   "outputs": [],
   "source": []
  },
  {
   "cell_type": "code",
   "execution_count": null,
   "metadata": {},
   "outputs": [],
   "source": []
  },
  {
   "cell_type": "code",
   "execution_count": null,
   "metadata": {},
   "outputs": [],
   "source": []
  },
  {
   "cell_type": "code",
   "execution_count": null,
   "metadata": {},
   "outputs": [],
   "source": []
  },
  {
   "cell_type": "code",
   "execution_count": null,
   "metadata": {},
   "outputs": [],
   "source": []
  },
  {
   "cell_type": "code",
   "execution_count": null,
   "metadata": {},
   "outputs": [],
   "source": []
  },
  {
   "cell_type": "code",
   "execution_count": null,
   "metadata": {},
   "outputs": [],
   "source": [
    "\n"
   ]
  },
  {
   "cell_type": "code",
   "execution_count": null,
   "metadata": {},
   "outputs": [],
   "source": [
    "\n"
   ]
  },
  {
   "cell_type": "code",
   "execution_count": null,
   "metadata": {},
   "outputs": [],
   "source": []
  },
  {
   "cell_type": "code",
   "execution_count": null,
   "metadata": {},
   "outputs": [],
   "source": []
  },
  {
   "cell_type": "code",
   "execution_count": null,
   "metadata": {},
   "outputs": [],
   "source": []
  },
  {
   "cell_type": "code",
   "execution_count": null,
   "metadata": {},
   "outputs": [],
   "source": []
  }
 ],
 "metadata": {
  "kernelspec": {
   "display_name": "NCL",
   "language": "ncl",
   "name": "ncl_kernel"
  },
  "language_info": {
   "file_extension": ".ncl",
   "mimetype": "text/plain",
   "name": "ncl"
  }
 },
 "nbformat": 4,
 "nbformat_minor": 2
}
